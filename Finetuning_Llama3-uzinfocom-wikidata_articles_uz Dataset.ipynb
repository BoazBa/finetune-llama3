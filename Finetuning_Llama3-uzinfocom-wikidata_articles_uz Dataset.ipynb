{
 "cells": [
  {
   "cell_type": "markdown",
   "id": "7e00f91a",
   "metadata": {},
   "source": [
    "# Fine tuning Llama-3.1-8B with uzinfocom/wikidata_articles_uz"
   ]
  },
  {
   "cell_type": "markdown",
   "id": "912e86d2",
   "metadata": {},
   "source": [
    "## Installing the required libraries and packages"
   ]
  },
  {
   "cell_type": "code",
   "execution_count": 1,
   "id": "d1e7e56c",
   "metadata": {
    "scrolled": true
   },
   "outputs": [
    {
     "name": "stdout",
     "output_type": "stream",
     "text": [
      "Requirement already satisfied: torch in /opt/conda/lib/python3.11/site-packages (2.5.1)\n",
      "Requirement already satisfied: torchvision in /opt/conda/lib/python3.11/site-packages (0.20.1)\n",
      "Requirement already satisfied: transformers in /opt/conda/lib/python3.11/site-packages (4.46.3)\n",
      "Requirement already satisfied: datasets in /opt/conda/lib/python3.11/site-packages (3.1.0)\n",
      "Requirement already satisfied: bitsandbytes in /opt/conda/lib/python3.11/site-packages (0.44.1)\n",
      "Requirement already satisfied: peft in /opt/conda/lib/python3.11/site-packages (0.13.2)\n",
      "Requirement already satisfied: filelock in /opt/conda/lib/python3.11/site-packages (from torch) (3.16.1)\n",
      "Requirement already satisfied: typing-extensions>=4.8.0 in /opt/conda/lib/python3.11/site-packages (from torch) (4.8.0)\n",
      "Requirement already satisfied: networkx in /opt/conda/lib/python3.11/site-packages (from torch) (3.2)\n",
      "Requirement already satisfied: jinja2 in /opt/conda/lib/python3.11/site-packages (from torch) (3.1.2)\n",
      "Requirement already satisfied: fsspec in /opt/conda/lib/python3.11/site-packages (from torch) (2023.9.2)\n",
      "Requirement already satisfied: nvidia-cuda-nvrtc-cu12==12.4.127 in /opt/conda/lib/python3.11/site-packages (from torch) (12.4.127)\n",
      "Requirement already satisfied: nvidia-cuda-runtime-cu12==12.4.127 in /opt/conda/lib/python3.11/site-packages (from torch) (12.4.127)\n",
      "Requirement already satisfied: nvidia-cuda-cupti-cu12==12.4.127 in /opt/conda/lib/python3.11/site-packages (from torch) (12.4.127)\n",
      "Requirement already satisfied: nvidia-cudnn-cu12==9.1.0.70 in /opt/conda/lib/python3.11/site-packages (from torch) (9.1.0.70)\n",
      "Requirement already satisfied: nvidia-cublas-cu12==12.4.5.8 in /opt/conda/lib/python3.11/site-packages (from torch) (12.4.5.8)\n",
      "Requirement already satisfied: nvidia-cufft-cu12==11.2.1.3 in /opt/conda/lib/python3.11/site-packages (from torch) (11.2.1.3)\n",
      "Requirement already satisfied: nvidia-curand-cu12==10.3.5.147 in /opt/conda/lib/python3.11/site-packages (from torch) (10.3.5.147)\n",
      "Requirement already satisfied: nvidia-cusolver-cu12==11.6.1.9 in /opt/conda/lib/python3.11/site-packages (from torch) (11.6.1.9)\n",
      "Requirement already satisfied: nvidia-cusparse-cu12==12.3.1.170 in /opt/conda/lib/python3.11/site-packages (from torch) (12.3.1.170)\n",
      "Requirement already satisfied: nvidia-nccl-cu12==2.21.5 in /opt/conda/lib/python3.11/site-packages (from torch) (2.21.5)\n",
      "Requirement already satisfied: nvidia-nvtx-cu12==12.4.127 in /opt/conda/lib/python3.11/site-packages (from torch) (12.4.127)\n",
      "Requirement already satisfied: nvidia-nvjitlink-cu12==12.4.127 in /opt/conda/lib/python3.11/site-packages (from torch) (12.4.127)\n",
      "Requirement already satisfied: triton==3.1.0 in /opt/conda/lib/python3.11/site-packages (from torch) (3.1.0)\n",
      "Requirement already satisfied: sympy==1.13.1 in /opt/conda/lib/python3.11/site-packages (from torch) (1.13.1)\n",
      "Requirement already satisfied: mpmath<1.4,>=1.1.0 in /opt/conda/lib/python3.11/site-packages (from sympy==1.13.1->torch) (1.3.0)\n",
      "Requirement already satisfied: numpy in /opt/conda/lib/python3.11/site-packages (from torchvision) (1.24.4)\n",
      "Requirement already satisfied: pillow!=8.3.*,>=5.3.0 in /opt/conda/lib/python3.11/site-packages (from torchvision) (10.1.0)\n",
      "Requirement already satisfied: huggingface-hub<1.0,>=0.23.2 in /opt/conda/lib/python3.11/site-packages (from transformers) (0.26.3)\n",
      "Requirement already satisfied: packaging>=20.0 in /opt/conda/lib/python3.11/site-packages (from transformers) (23.2)\n",
      "Requirement already satisfied: pyyaml>=5.1 in /opt/conda/lib/python3.11/site-packages (from transformers) (6.0.1)\n",
      "Requirement already satisfied: regex!=2019.12.17 in /opt/conda/lib/python3.11/site-packages (from transformers) (2024.11.6)\n",
      "Requirement already satisfied: requests in /opt/conda/lib/python3.11/site-packages (from transformers) (2.32.3)\n",
      "Requirement already satisfied: tokenizers<0.21,>=0.20 in /opt/conda/lib/python3.11/site-packages (from transformers) (0.20.3)\n",
      "Requirement already satisfied: safetensors>=0.4.1 in /opt/conda/lib/python3.11/site-packages (from transformers) (0.4.5)\n",
      "Requirement already satisfied: tqdm>=4.27 in /opt/conda/lib/python3.11/site-packages (from transformers) (4.67.1)\n",
      "Requirement already satisfied: pyarrow>=15.0.0 in /opt/conda/lib/python3.11/site-packages (from datasets) (18.1.0)\n",
      "Requirement already satisfied: dill<0.3.9,>=0.3.0 in /opt/conda/lib/python3.11/site-packages (from datasets) (0.3.8)\n",
      "Requirement already satisfied: pandas in /opt/conda/lib/python3.11/site-packages (from datasets) (2.1.1)\n",
      "Requirement already satisfied: xxhash in /opt/conda/lib/python3.11/site-packages (from datasets) (3.5.0)\n",
      "Requirement already satisfied: multiprocess<0.70.17 in /opt/conda/lib/python3.11/site-packages (from datasets) (0.70.16)\n",
      "Requirement already satisfied: aiohttp in /opt/conda/lib/python3.11/site-packages (from datasets) (3.11.9)\n",
      "Requirement already satisfied: psutil in /opt/conda/lib/python3.11/site-packages (from peft) (5.9.5)\n",
      "Requirement already satisfied: accelerate>=0.21.0 in /opt/conda/lib/python3.11/site-packages (from peft) (1.1.1)\n",
      "Requirement already satisfied: aiohappyeyeballs>=2.3.0 in /opt/conda/lib/python3.11/site-packages (from aiohttp->datasets) (2.4.4)\n",
      "Requirement already satisfied: aiosignal>=1.1.2 in /opt/conda/lib/python3.11/site-packages (from aiohttp->datasets) (1.3.1)\n",
      "Requirement already satisfied: attrs>=17.3.0 in /opt/conda/lib/python3.11/site-packages (from aiohttp->datasets) (23.1.0)\n",
      "Requirement already satisfied: frozenlist>=1.1.1 in /opt/conda/lib/python3.11/site-packages (from aiohttp->datasets) (1.5.0)\n",
      "Requirement already satisfied: multidict<7.0,>=4.5 in /opt/conda/lib/python3.11/site-packages (from aiohttp->datasets) (6.1.0)\n",
      "Requirement already satisfied: propcache>=0.2.0 in /opt/conda/lib/python3.11/site-packages (from aiohttp->datasets) (0.2.1)\n",
      "Requirement already satisfied: yarl<2.0,>=1.17.0 in /opt/conda/lib/python3.11/site-packages (from aiohttp->datasets) (1.18.3)\n",
      "Requirement already satisfied: charset-normalizer<4,>=2 in /opt/conda/lib/python3.11/site-packages (from requests->transformers) (3.3.0)\n",
      "Requirement already satisfied: idna<4,>=2.5 in /opt/conda/lib/python3.11/site-packages (from requests->transformers) (3.4)\n",
      "Requirement already satisfied: urllib3<3,>=1.21.1 in /opt/conda/lib/python3.11/site-packages (from requests->transformers) (2.0.7)\n",
      "Requirement already satisfied: certifi>=2017.4.17 in /opt/conda/lib/python3.11/site-packages (from requests->transformers) (2023.7.22)\n",
      "Requirement already satisfied: MarkupSafe>=2.0 in /opt/conda/lib/python3.11/site-packages (from jinja2->torch) (2.1.3)\n",
      "Requirement already satisfied: python-dateutil>=2.8.2 in /opt/conda/lib/python3.11/site-packages (from pandas->datasets) (2.8.2)\n",
      "Requirement already satisfied: pytz>=2020.1 in /opt/conda/lib/python3.11/site-packages (from pandas->datasets) (2023.3.post1)\n",
      "Requirement already satisfied: tzdata>=2022.1 in /opt/conda/lib/python3.11/site-packages (from pandas->datasets) (2023.3)\n",
      "Requirement already satisfied: six>=1.5 in /opt/conda/lib/python3.11/site-packages (from python-dateutil>=2.8.2->pandas->datasets) (1.16.0)\n"
     ]
    }
   ],
   "source": [
    "!pip install torch torchvision transformers datasets bitsandbytes peft"
   ]
  },
  {
   "cell_type": "code",
   "execution_count": 2,
   "id": "26ae781c",
   "metadata": {},
   "outputs": [],
   "source": [
    "import torch\n",
    "from torch.utils.data import DataLoader\n",
    "from transformers import AutoModelForCausalLM, AutoTokenizer, TrainingArguments, Trainer\n",
    "from datasets import load_dataset"
   ]
  },
  {
   "cell_type": "markdown",
   "id": "7c5b033c",
   "metadata": {},
   "source": [
    "## Configure torch with GPU"
   ]
  },
  {
   "cell_type": "code",
   "execution_count": 3,
   "id": "5a6a1b46",
   "metadata": {},
   "outputs": [
    {
     "name": "stdout",
     "output_type": "stream",
     "text": [
      "Using device: cuda\n"
     ]
    }
   ],
   "source": [
    "# Switch to GPU (cuda)\n",
    "device = torch.device(\"cuda\" if torch.cuda.is_available() else \"cpu\")\n",
    "print(f\"Using device: {device}\")"
   ]
  },
  {
   "cell_type": "markdown",
   "id": "6bae256c",
   "metadata": {},
   "source": [
    "## Model Loading from Huggingface"
   ]
  },
  {
   "cell_type": "code",
   "execution_count": 4,
   "id": "bdd0e2ed",
   "metadata": {},
   "outputs": [
    {
     "name": "stderr",
     "output_type": "stream",
     "text": [
      "The `load_in_4bit` and `load_in_8bit` arguments are deprecated and will be removed in the future versions. Please, pass a `BitsAndBytesConfig` object in `quantization_config` argument instead.\n"
     ]
    },
    {
     "data": {
      "application/vnd.jupyter.widget-view+json": {
       "model_id": "e07a1c96e285412387737637ca0f3d54",
       "version_major": 2,
       "version_minor": 0
      },
      "text/plain": [
       "Loading checkpoint shards:   0%|          | 0/4 [00:00<?, ?it/s]"
      ]
     },
     "metadata": {},
     "output_type": "display_data"
    }
   ],
   "source": [
    "model_name = \"NousResearch/Meta-Llama-3.1-8B-Instruct\"\n",
    "model = AutoModelForCausalLM.from_pretrained(model_name, device_map=\"auto\", load_in_8bit=True)\n",
    "tokenizer = AutoTokenizer.from_pretrained(model_name)\n",
    "tokenizer.pad_token = tokenizer.eos_token"
   ]
  },
  {
   "cell_type": "markdown",
   "id": "ffcf76c7",
   "metadata": {},
   "source": [
    "## Data Loading & Preprocessing"
   ]
  },
  {
   "cell_type": "code",
   "execution_count": 5,
   "id": "a2fe9eab",
   "metadata": {},
   "outputs": [],
   "source": [
    "# Download the dataset and split it into training and test set\n",
    "\n",
    "full_dataset = load_dataset(\"uzinfocom/wikidata_articles_uz\")\n",
    "\n",
    "# Select the first 15000 rows\n",
    "dataset = full_dataset['train'].select(range(100))\n",
    "\n",
    "train_test_split = dataset.train_test_split(test_size=0.2, shuffle=True)\n",
    "train_dataset = train_test_split['train']\n",
    "test_dataset = train_test_split['test']"
   ]
  },
  {
   "cell_type": "code",
   "execution_count": 6,
   "id": "f409a601",
   "metadata": {},
   "outputs": [
    {
     "name": "stdout",
     "output_type": "stream",
     "text": [
      "DatasetDict({\n",
      "    train: Dataset({\n",
      "        features: ['id', 'url', 'title', 'text'],\n",
      "        num_rows: 221845\n",
      "    })\n",
      "}) dict_keys(['train'])\n"
     ]
    }
   ],
   "source": [
    "print(full_dataset, full_dataset.keys())"
   ]
  },
  {
   "cell_type": "code",
   "execution_count": 7,
   "id": "6e1117a6",
   "metadata": {},
   "outputs": [
    {
     "name": "stdout",
     "output_type": "stream",
     "text": [
      "Number of rows: 100\n",
      "Columns: ['id', 'url', 'title', 'text']\n"
     ]
    }
   ],
   "source": [
    "# Let's have a look at our dataset and how a single data point looks like\n",
    "print(\"Number of rows:\", len(dataset))\n",
    "print(\"Columns:\", dataset.column_names)"
   ]
  },
  {
   "cell_type": "code",
   "execution_count": 8,
   "id": "6eb59543",
   "metadata": {},
   "outputs": [
    {
     "data": {
      "application/vnd.jupyter.widget-view+json": {
       "model_id": "b4ff010dcd4043a3aa444e7dd6132ecc",
       "version_major": 2,
       "version_minor": 0
      },
      "text/plain": [
       "Map:   0%|          | 0/80 [00:00<?, ? examples/s]"
      ]
     },
     "metadata": {},
     "output_type": "display_data"
    },
    {
     "data": {
      "application/vnd.jupyter.widget-view+json": {
       "model_id": "ab0e29a687bd4adb82b6efc761f901d3",
       "version_major": 2,
       "version_minor": 0
      },
      "text/plain": [
       "Map:   0%|          | 0/20 [00:00<?, ? examples/s]"
      ]
     },
     "metadata": {},
     "output_type": "display_data"
    },
    {
     "name": "stdout",
     "output_type": "stream",
     "text": [
      "Train dataset example: {'id': 1577, 'url': 'https://uz.wikipedia.org/wiki/Xorazm%20viloyati', 'title': 'Xorazm viloyati', 'text': 'Xorazm viloyati\\xa0— Oʻzbekiston Respublikasi tarkibidagi viloyat. 1925-yil fevraldan 1938-yil yanvargacha Xorazm okrugi, 1938-yil 15-yanvarda viloyat maqomiga oʻtkazilgan. Umumiy maydoni\\xa0— 6,05 ming kvadrat kilometr.\\n\\nEtimologiyasi \\nXorazm soʻzi birinchi marta zardushtiylarning muqaddas kitobi „Avesto“da tilga olingan. Qadimgi xorazm tilidan tarjima qilingan Xorazm „pastlikdagi yer“, „oziq-ovqatli yer“ degan maʼnoni bildirgan degan fikrlar ham bor.\\n\\nTarixi \\nMiloddan avvalgi 8-asrda xorazmliklar tomonidan asos solingan Markaziy Osiyodagi eng qadimiy davlatlardan biri tashkil topdi. Bu yerda massagetlar, saklar, apasaklar, oslar, daxlar va boshqalar qabilalari ham yashagan.\\n\\n12-asrda Oʻrta Osiyoda qudratli Xorazmshohlar davlati tashkil topdi. U oʻzining eng gullab-yashnagan choʻqqisiga 13-asr boshlarida Alauddin Muhammad II davrida erishgan. Ammo imperiyaning gullagan davri uzoq davom etmadi va u moʻgʻullar bosqinidan natijasida Xorazmshohlar davlati quladi.\\n\\n1920-yil fevral oyida Xiva xonligining vorisi sifatida Xorazm Xalq Sovet Respublikasi tashkil topdi.\\n\\nHukmdor rasman taxtdan voz kechgach, 1920-yil 26-aprelda Birinchi Xorazm Qurultoyi (yigʻilishi) eʼlon qilindi.\\n\\n1923-yil 30-oktabrda XXSR Xorazm Sotsialistik Sovet Respublikasiga aylantirildi. Oʻrta Osiyoda milliy-hududiy chegaralanish munosabati bilan Xorazm SSR tugatilishini eʼlon qildi. Xorazm SSRning oʻzbeklar yashaydigan 23 ta tumani yangidan tashkil qilingan Oʻzbekiston SSR tarkibiga Xorazm viloyati qilib kiritildi. U 1924-yilning kuzigacha, uning hududi Oʻzbekiston SSR (Xorazm viloyati tarkibida), Turkmaniston SSR va Qoraqalpogʻiston Muxtoriyati oʻrtasida boʻlingangacha mavjud edi.\\n\\n1925—1930-yillarda va 1932—1938-yillarda Xorazm tumani tashkil etilgan. 1938-yil 15-yanvarda alohida viloyat sifatida tashkil topdi.\\n\\nXorazm algebra va algoritm asoschisi Muhammad bin Muso Al Xorazmiy va shar shaklidagi yer xaritasini yaratgan Abu Rayxon Beruniy hamda boshqa olim va arboblarning vatani hisoblanadi.\\n\\n2003-yilda Xorazm viloyati Jaloliddin Manguberdi ordeni bilan taqdirlangan.\\n\\nMaʼmuriy-hududiy tuzilishi \\nRespublikaning shimoli-gʻarbida, Amudaryo quyi oqimining chap sohilida. Shimoliy va shimoli-sharqdan Qoraqalpogʻiston Respublikasi, janubiy va janubi-gʻarbdan Turkmaniston, janubi-sharqdan Buxoro viloyati bilan chegaradosh. Tarkibida 11 qishloq tumani (Bogʻot, Gurlan, Urganch, Xiva, Xonqa, Shovot, Yangiariq, Yangibozor, Qoʻshkoʻpir, Hazorasp va Tuproqqal’a), 3 shahar (Urganch, Xiva, Pitnak), 7 shaharcha (Gurlan, Xonqa, Chalish, Shovot, Yangibozor, Qoʻshkoʻpir, Hazorasp), 100 qishloq fuqarolari yigʻini bor. Viloyat 11 ta tumanga ajratilgan, maʼmuriy markazi\\xa0– Urganch shahri. Viloyatning boshqa katta shaharlari\\xa0– Xiva va Pitnak.\\n\\nXorazm viloyatida  56 ta shahar tipidagi aholi punktlari bor. 2020-yil mart oyida Hazorasp tumanining sharqiy qismidan yangi Tuproqqalʼa tumani tashkil etildi.\\n\\nAholisi \\nViloyat aholisi 1 930 747 kishi, taxminan 60 foizi qishloq joylarda yashaydi. Hududlar kesimidagi aholi soni:\\n\\n Urganch tumani\\xa0— 205 480 kishi,\\n Hazorasp tumani\\xa0— 198 657 kishi,\\n Xonqa tumani\\xa0— 191 620 kishi,\\n Qoʻshkoʻpir tumani\\xa0— 176 059 kishi,\\n Shovot tumani\\xa0— 174 352 kishi,\\n Bogʻot tumani\\xa0— 169 486 kishi,\\n Gurlan tumani\\xa0— 151 950 kishi,\\n Xiva tumani\\xa0— 149 698 kishi,\\n Urganch shahri\\xa0— 146 709 kishi ,\\n Yangiariq tumani\\xa0— 118 925 kishi,\\n Xiva shahri\\xa0— 95 246 kishi,\\n Yangibozor tumani\\xa0— 89 427 kishi,\\n Tuproqqal’a tumani\\xa0— 56 558 kishi.\\n\\nAholisining etnik tarkibi \\nQadimda Xorazmda yashovchi oʻzbek qabilalari bir necha etnik guruhlar boʻlib, ular Abulgʻoziy Bahodirxon (1643-1664) tomonidan 4 guruh (toʻp)ga boʻlingan. Har bir guruhga 2 qabila (birinchi guruhga uygʻur va nayman, ikkinchisiga qoʻngʻirot va qiyot, uchinchisiga nukuz va mangʻit, toʻrtinchisiga qangʻli va qipchoqlar) birlashtirilgan. Shuningdek, bir necha qabila qoldiqlari (jaloyir, kenagas, doʻrmon, yuz, ming, shix, qatagʻon) va ayrim etnik guruhlar (alieli, xoʻjaeli va sayidlar) mavjud boʻlgan. Amudaryodan suv oladigan kanallar va sugʻoriladigan yerlarning katta qismi shu qabila va urugʻlarga taqsimlab berilgan va ular asta-sekin oʻtroqlashib, dehqonchilik bilan shugʻullanganlar. Qolgan guruhlar Xorazmda juda kam boʻlib (bular qoʻngʻirotlar va boshqalar) viloyatning Gurlan va Shovot tumanlari, mangʻitlar Gurlan tumani va Shovot tumani (AnbarManaq)da, qiyotlar Shovot tumanida, qipchoqlar Urganch, Shovot va Qoʻshkoʻpir tumanlari, doʻrmonlar Urganch va Shovot (Anbar Manaq) tumanlarida, xidireli Urganch va Xivada, toma Xonqa va Bogʻot tumanlarida joylashgan.\\n\\nIqtisodiyoti \\nViloyatda 32 ta xorijiy investitsiyali qoʻshma korxona faoliyat yuritadi. Ular budjeti 1997-yilda 301,7\\xa0million AQSh dollarini tashkil etdi. Viloyat iqtisodiyoti paxtani qayta ishlash va oziq-ovqat sanoatiga asoslangan. Koʻp sonli paxta tozalash zavodlari, neft qazib oladigan va ipak yigiradigan fabrikalar, toʻqimachilik va vinochilik korxonalari va hokazolar. Shuningdek, qurilish materiallarini ishlab chiqarish taraqqiy etgan. Xiva gilam fabrikasida tayyorlangan gilamlar butun dunyoga mashhur.\\n\\nMashinasozlik va toʻqimachilik tarmoqlari rivojlanib bormoqda. Mahalliy qishloq xoʻjaligining asosiy yoʻnalishi\\xa0— albatta, paxtadir. Boshoqlilar, ayniqsa, guruch yetishtirish soʻnggi bir necha yilda keskin oshdi. Shuningdek, koʻplab bogʻ va uzumzorlar, qovun va qovoq plantatsiyalari bor, kartoshka dalalari butun viloyatni qamrab olgan. Shakar tozalash zavodi qurilishi rejalashtirilmoqda. Viloyat iqtisodiy jihatdan oʻsishga tayyor.\\n\\nMazkur sohalarga eʼtibor qaratilsa, quyidagilarga erishish ehtimol qilinmoqda:\\n\\nPaxta, ipak xom ashyosi va boshqa mahalliy zaxiralardan foydalanadigan mavjud korxonalarni taʼmirlash, texnik zamonaviylashtirish va kengaytirish. Paxta tolasini qayta ishlash jarayonini yaxshilash va oshirish, ip, gazlama, paxta yigiruv ipi va gilamlar tayyorlash va eksport qilish zarur.\\n\\nMavjud oziq-ovqat sanoati tarmoqlarini yangilash va yangilarini, ayniqsa, mevalar, uzum, sabzavot, qovun va qovoq bilan bogʻliq korxonalarni tashkil etish. Goʻsht-sut mahsulotlariga asoslangan korxonalar kengaytirilishi kerak.\\n\\nOʻrab-joylash uskunalarini ishlab chiqarish. Idish materialarining yetishmasligi\\xa0— eksportga moʻljallangan tomat pastasi, oʻsimlik yogʻi, turli turdagi jem va marmeladlar ishlab chiqarish yoʻlida jiddiy toʻsiq boʻlmoqda.\\n\\nUshbu loyihalarni amalga oshirish uchun viloyatga xorijiy investitsiyalar koʻrinishida qariyb 52,1\\xa0million AQSh dollari zarur. Xorazm viloyati temiryoʻllari umumiy uzunligi 130 km dan ortiq. Viloyat Rossiyaning Yevropa qismi va Kavkaz bilan temiryoʻl orqali bogʻlangan. Yoʻllarning umumiy uzunligi\\xa0— 2 300 km, shoh koʻchalar 2 000 km masofaga yastangan. Viloyat aviareyslari Xorazmni butun Markaziy Osiyo, shuningdek, Rossiya mintaqalarining katta qismi va MDH bilan birlashtiradi. Xiva\\xa0— xalqaro sayyohlikning katta markazi. 1997-yilda Xiva oʻzining 2500-yilligini nishonladi. Xiva atrofida sayyohlikni yanada rivojlantirish uchun koʻp ishlar qilindi.\\n\\nTabiati \\nIqlimi keskin kontinental, oʻrtamiyona sovuq qish va quruq issiq yoz boʻladi. Viloyat choʻl zonasida, Xorazm vohasining gʻarbiy qismida, oʻrtacha 100 m balandlikda joylashgan. Relyefi pasttekislikdan iborat. Amudaryo qadimgi deltasining bir qismi boʻlib, daryo yotqiziqlaridan tashkil topgan. Qoraqum choʻliga tutashgan gʻarbiy va janubi-gʻarbiy qismi qum bilan qoplangan. Foydali qazilmalardan ohaktosh, qum, gil va boshqa qurilish materiallari bor. Qishi moʻtadil sovuq, qor kam yogʻadi, yanvarning oʻrtacha temperaturasi −5°, eng past temperatura −32°. Yozi issiq, quruq, iyulning oʻrtacha temperaturasi 30°, eng yuqori temperatura 47°. Vegetatsiya davri 200-210 kun. Yiliga 78-79\\xa0mm yogʻin tushadi, asosan, mart-aprel oylarida yogʻadi. Shimoliy va shimoli-sharqiy shamollar esadi. Yagona daryosi\\xa0— Amudaryo viloyat hududida keng vodiy boʻylab oqadi, qirgʻoqlari past, shu sababli toshqin boʻlib turadi. Toshqinga qarshi dambalar qurilgan. Amudaryo suvidan yirik kanallar yerdamida ekinlarni sugʻorishda foydalaniladi. Viloyat janubida mayda shoʻr koʻl, botqoqlik va shoʻrxok koʻp. Tuproqlari Amudaryoning allyuvial yotqiziqlaridan tashkil topgan. Daryo vodiysida oʻtloqi va oʻtloqi-botqoq tuproqlar, gʻarbida qumliklar uchraydi. Sugʻoriladigan yerlarda, asosan, boʻz tuproq boʻlib, kuchli shoʻrlangan. Viloyat hududining asosiy qismi haydaladigan yerlar. Amudaryo qirgʻoqlaridagi toʻqayzorlarda terak, tol, jiyda, yulgʻun, kandir, qumliklarda saksovul va boshqa oʻsimliklar oʻsadi. Yovvoyi hayvonlardan, asosan, kemiruvchilar, sudraluvchilar, toʻqayzorlarda toʻqay mushugi, chiyaboʻri; qushlardan toʻrgʻay, oʻrdaklar, kulrang gʻoz, oqqush, birqozon, baliqchi, dehqonchumchuq, qizilishton, zargʻaldoq va boshqalar bor. Suv havzalarida ondatra va nutriya iqlimlashtirilgan.\\n\\nAholisi, asosan, oʻzbeklar (96,3\\xa0%), shuningdek, turkman, rus, qozoq, tatar, koreys, qoraqalpoq va boshqa millat vakillari ham yashaydi. Aholining oʻrtacha zichligi 1 km² ga 231,6 kishi. Shaharliklar 321,7 ming kishi, qishloq aholisi 1091 ming kishi (2004).\\n\\nHududiy boʻlinishi\\n\\nXoʻjaligi va sanoati \\nXorazm viloyati iqtisodiyotida qishloq xoʻjaligi bilan birga sanoat ham salmoqli oʻrinni egallaydi. Paxta tolasi, kalava ip, gilam, oziq-ovqat mahsulotlari, mashina uskunalari eksport qilinadi. Viloyatda paxta tozalash sanoati rivojlangan (barcha tuman markazlari va Urganch shahrida paxta tozalash zavodlari bor). Gurlan, Bogʻot, Xonqa, Urganch, Xiva va Hazoraspda toʻqimachilik, pillachilik, tikuvchilik; Xivada gilam fabrikasi, „Xiva gilami“ aksiyadorlik jamiyati ishlab turibdi. Faoliyat koʻrsatayotgan jami korxona va tashkilotlar 13748 ta. Mikrofirmalar soni 11340 dan ziyod (2004).\\n\\nViloyatda 36 qoʻshma korxona va ularning filiallari ishlab turibdi. Oʻzbekiston\\xa0— Turkiya „Bagat Tekstil“, „Xorazm-Nurtop“, „SemurgʻSanTe“, „Xorazm Tekstil“, „Memgilam“; Oʻzbekiston\\xa0— AQSh „Amerozindustriyes“, „Xiva malikasi“, „Nurlayt“, „Rahnamo Hyp“; Oʻzbekiston\\xa0- Germaniya „Unixo“, „OʻzOlmonXotelz“, „Xiva Karpet“; Oʻzbekiston-Britaniya „Xiva“; Oʻzbekiston-Rossiya „NamunaAgrofud“; Oʻzbekiston\\xa0- Italiya „Meva“; Oʻzbekiston-Ukraina „KiyevXorazm“; Oʻzbekiston\\xa0— Xitoy „Aziya Tekstil LTD“; Oʻzbekiston-Turkmaniston „GʻayratXumoyun“ va boshqa shular jumlasidandir.\\n\\nQishloq xoʻjaligi asosini paxtachilik va gʻallachilik tashkil etadi. Polizchilik, sabzavotchilik, bogʻdorchilik, chorvachilik, pillachilik ham rivojlangan. Shirkat, ijapa va xususiy fermer, dehqon xoʻjaliklari, aksiyadorlik jamiyatlari faoliyat koʻrsatadi. Viloyatda jami ekin maydoni 232,1 ming ga, shundan 129,4 ming ga qishloq xojaligi shirkatlari (69 ming ga yer xususiy fermerlar, 33,7 ming gektar yer dehqon xoʻjaliklari)ga tegishli. Umumiy yer fondining 38,4\\xa0% haydaladi, 18,2\\xa0% yaylov, oʻtloq, 1,3% bogʻ va tokzor; oʻrmon va changalzorlar 9,6\\xa0% ni, tutzorlar 0,9\\xa0%ni tashkil etadi.\\n\\n1991—2003-yillarda kanal va ariqlar rekonstruksiya qilinib, suv yoʻllarining umumiy uzunligi koʻpaydi. Xorazm viloyatidagi shoʻr suvlar viloyat tashqarisiga zaxkashlar orqali chiqarib tashlanadi. Viloyatda irrigatsiya va melioratsiya ishlariga alohida eʼtibor berib kelinmoqda.\\n\\nJami ekin maydonining 102,3 ming gektariga paxta, 86 ming gektariga don, 3 ming gektariga kartoshka, 9 ming gektariga sabzavot ekiladi (2003). Don (asosan, bugʻdoy, sholi) yetishtiriladigan maydonlar kengaydi. Xorazm viloyati mamlakatda sholi yetishtirish boʻyicha 1oʻrinda turadi.\\n\\nViloyat xususiy va jamoa xoʻjaliklarida 492,3 ming qoramol (shu jumladan, 202,1 ming sigir), 247,1 ming qoʻy va echki, 1437,6 ming parranda boqiladi. 6500 dan ziyod fermer xoʻjaligi chorvachilikka ixtisoslashgan. Urganch, Xiva parrandachilik fabrikalari faoliyat koʻrsatadi. Xorazm viloyatida Paxtachilik ilmiy tadqiqot stansiyasining paxtachilik-bedachilik zonal kompleks tajriba styasi (Urganch shahrida), Qoraqum ilmiy tadqiqot stansiyasi, paxta navlarini tajriba qilish uchastkasi (Xiva tumanida), mevali daraxtzorlar koʻchatzori, oʻrmon koʻchatzori (Urganch tumanida) va boshqa bor.\\n\\n1996—2004-yillarda Islom Bobojonov, Masharip Quvoqov, Bekturdi Jumaniyozov, Vera Pak, Anor Mahmudova „Oʻzbekiston Qahramoni“ unvoniga sazovor boʻldilar.\\n\\nTransporti \\nXorazm viloyati orqali Toshkent - Moskva, Dushanbe - Moskva temiryoʻl oʻtgan, Urganch\\xa0— Toshkent yoʻnalishida poyezdlar qatnaydi. Transport yoʻli uzunligi 128 km (2004). Amudaryo ustiga qurilgan Hazorasp temiryoʻl koʻprigi ishga tushirilib (Hazorasp yaqinida, 2004), Hazorasp\\xa0— Miskin\\xa0— Toshkent temiryoʻl masofasi qisqardi. Koʻprik har sutkada 14 poyezd, 20 ming avtomobil oʻtkazish imkoniyatiga ega. Koʻprik strategik ahamiyatga ega. Viloyatdagi qattiq qoplamali avtomobil yoʻllarining uz. 2750 km (2004). Xiva - Urganch yoʻnalishida trolleybus qatnovi (1997-yildan) yoʻlga qoʻyilgan. Urganch, Xiva shaharlaridan Toshkent, Samarqand, Navoiy, Buxoro, Nukus va boshqa shaharlarga avtobuslar katnaydi. Urganch shahri xalqaro va mahalliy yoʻnalishlar aeroportlaridan xorijiy davlatlar (shu jumladan, Parij, Tokio, Munhen, Tel-Aviv, Moskva, Simferopol va boshqalar) shuningdek, Toshkent, Nukus va boshqa shaharlar bilan muntazam aviatsiya aloqasi oʻrnatilgan. Viloyat orqali Oʻrta Osiyo\\xa0— Markaz, Buxoro\\xa0— Ural, Turkmaniston\\xa0— Rossiya xalqaro gaz magistral quvurlari oʻtkazilgan.\\n\\nMaorif, madaniyat, sogʻliqni saqlash va sport \\n2003/04-oʻquv yilida 537 umumiy taʼlim maktabi (shu jumladan, 47 ixtisoslashgan maktab, gimnaziya, internat maktabi) boʻlib, 335,4 mingga yaqin oʻquvchi taʼlim oldi. 1997-yilda Xorazm tasviriy va amaliy sanʼati litseyi ochildi. Viloyatdagi 57 kasb-hunar kolleji va oʻrta maxsus oʻquv yurtlarida 34 mingdan ziyod talaba oʻqiydi (2004).\\n\\nOʻzbekiston Respublikasi Prezidenti Islom Karimovning tashabbusi bilan Xorazm Ma\\'mun akademiyasi qayta tiklandi, pedagog kadrlar tayyorlashga ixtisoslashgan viloyat pedagogika instituti (1935\\xa0— 1992) Al-Xorazmiy nomidagi Urganch davlat universitetiga aylantirildi. Urganch davlat universiteti, Toshkent tibbiyot akademiyasining Urganch filialida 7460 talaba taʼlim oladi (2004). Oʻzbekiston Fanlar akademiyasi arxeologiya mintaqaviy boʻlimi, paxtachilik, Qoraqum ilmiy tadqiqot stansiyalari faoliyat koʻrsatadi. Xorazm viloyatida Xiva davlat „Ichan qalʼa“ tarixiy-meʼmorlik muzey-qoʻriqxonasi va uning filiallari, 424 jamoat kutubxonasi (5 mln. asar), 302 klub muassasasi, madaniyat uylari va saroylari, 10 ga yaqin madaniyat va istirohat bogʻi, Xorazmiy, Beruniy, Jaloliddin Manguberdi, Avesto yodgorlik bogʻ-majmualari, „Orazibon“, „Avazxon“, „Doston“ folklor-etnografik xalq dastalari, \"Muborak, „Yulduz“, „Navbahor“, „Xiva naqshlari“ ashula va raqs dastalari, milliy dorbozlar guruhi, koʻplab badiiy havaskorlik jamoalari bor. Ogahiy nomidagi viloyat musiqali drama va komediya teatri, viloyat qoʻgʻirchoq teatri (Xiva shahrida) ishlab turibdi.\\n\\nXorazm musiqiy hayoti Xorazm vohasida qadimgidan yashab kelayotgan xalqlarning turmush tarzida muhim oʻrin egallagan. Qadimgi Xorazm hududidagi Qoʻyqirilgan qalʼa, Tuproqqalʼa, Qirqqiz qalʼa kabi istehkomlardan topilgan va asl nomlari saqlanmagan torli (dutorsimon, changkanora, arfaga oʻxshash), damli (nay, mizmar), zarbli (daf va nogʻoraga oʻxshash) cholgʻu sozlarni ushlagan ayol va erkaklar tasvirlari tushirilgan tangalar va ganch haykalchalar bu voha musiqa sanʼatining ildizlari juda qadimgi ekanligidan dalolat beradi. VIII asr boshidagi arablar istilosi oqibatida Qadimgi Xorazm madaniyati va sanʼati xarobalikka yuz tutib, islom madaniyatining yangi anʼanalari taraqqiy eta boshladi. Xorazmiy, Beruniy, Abu Abdullo ibn Yusuf Xorazmiy (X asr) va boshqa olimlarning qomusiy asarlarini musiqaga bagʻishlangan qismlarida musiqani hisob ilmining tarkibiy boʻlagi va uni inson ruhiyatiga taʼsiri taʼriflanadi. „Mafotix ululum“ asarida oʻsha davrdagi mavjud cholgʻular: ud, changkanora, qanun, tanbur, mizmar, argʻanun, nay, surnaylarning nomlari keltirilgan. Oʻsha davrda Gurganjda cholgʻu asboblar yasovchi ustalar mahallasi boʻlgan.\\n\\nMuhammad Xorazmshoh davrida (1200-1221) mashhur sozanda ustod Mahmud, Yusufbek Dutoriy kabi sozandalar edda tanilgan. 14-asrda yashagan „Muhabbatnoma“ dostonining muallifi Xorazmiy, Abdurahim Hofiz Xorazmiy, ayniqsa, Alisher Navoiyning „Sabʼai sayyor“ dostonida va boshqa klassik shoirlarning gʻazallarida oʻsha davr maqomlari, sozandalari va cholgʻulari yuksak did bilan taʼriflanadi. Shuningdek, sanʼatkorlar homiysi Sulton Vayis (Uvays), baxshilar piri Oshiq Oydinlar ham shu davrda yashaganlar. Muhammad Rahimxon (1806-1825) davriga kelib Niyozjonxoʻja va uning shogirdlari Mahdumjon qozi, Muhammadjon Sandiqchi, Abdusattor maxram, uning shogirdi Xudoybergan kosib va boshqa tanbur maqomlarini rivojlanishiga katta hissa qoʻshdilar. Komil Xorazmiy Xorazm maqomlarini oʻzi ixtiro qilgan „Tanbur chizigʻi“ asosida qogʻozga tushirishni boshlab bergan yetuk musiqashunoslardan hisoblanadi. 1883-yilda dastlab Xorazm maqomlari tarkibidagi „Rost“ maqomi, keyin, bu ishni davom qildirib oʻgʻli Muhammad Rasul Mirzo Xorazm maqomlaridan Buzruk, Navo, Dugoh, Segoh, Iroq va Rostlarni qogʻozga tushirgan. Bu davrda Otash baxshi, Nurjon baxshi va ayniqsa, Eshvoy baxshi hamda uning shogirdi Muhammadniyoz Gurji kabi baxshilar nom qozonganlar.\\n\\nNomlari nomaʼlum boʻlgan ustoz sozandalar va baxshilar tomonidan Xorazm dutor yoʻllari jamlanib 11 ta dutor maqomi shakllangan. Mashhur sozanda va nafis taʼb egasi Muhammad Rahimxon Soniy (Feruz) xonlik davri (1864-1910) ga kelib Xorazmda musiqa sanʼati yanada rivoj topdi. Feruz saroyida 40 dan ortiq shoir, 20 ga yaqin maqomchi sozandalarni toʻplab mushoira va maqom kechalarini oʻtkazib turardi. Saroy maqomchilari orasida Paxlavon Niyoz Mirzaboshi Komil, Muhammad Yoqub Devon Xarrot, Yoqub fozachi, Qalandar Doʻnmas va boshqa maqomlarning cholgʻu va aytim qismlarini boyitganlar. Feruzning oʻzi ham maqom cholgʻu qismlariga 14 ga yaqin kuy bastalagan. Bu davrda 40 dan ortiq baxshi, 32 sozanda qoʻshlari (sozandalarning jamlangan dastasi) faoliyat koʻrsatgan. Ular sayil va bayramlarda xonning koʻrigidan oʻtar va el-yurtning tomoshasini oʻtkazishga fatvo olar edilar. Baxshilar ichida mashhurlari: Rizo baxshi, Ernazar baxshi, Suyav baxshi; sozanda qoʻshlaridan elga tanilgan namoyandalardan Shomurod surnaychi va boshqa boʻlgan.\\n\\n1910-yil Xiva xonligi taxtiga Asfandiyorxon oʻtirganidan keyin saroy shoir va sozandalari tarqab ketdi.\\n\\nXorazmda shoʻrolar hokimiyati oʻrnatilgach, maqom va musiqa rivoji biroz toʻxtadi. 1923-yilda Xiva shahrida musiqa maktabi tashkil qilinib, skripka, klarnet, tanbur kabi cholgʻu asboblarda ijro etish boʻyicha sinflar ochiddi. 1925-yilda Moskva shahrida Mulla Bekjon Rahmon oʻgʻli va Muhammad Yusuf Devonzodalarning „Xorazm musiqiy tarixchasi“ kitobi chop ettirdi. Bu davrda sozandalardan Safo Ollaberganov (Mugʻanniy), Qurbon sozchi Ismoilov, Madrahim Yoqubov (Sheroziy), Qurbonnazar Abdullayev (Bola baxshi), Matyusuf Xarratov (Chokar), Otajon Abdullayev, Hojixon Boltayev; ayol xalfalardan Onajon Sobirova (Anash maxram), Onabibi qoriya Otajonova (Ojiza) va boshqa mashhur boʻlishgan. Ularning izdoshlari va shogirdlari ichida xonandalardan Komiljon Otaniyozov, Vahobjon Fayozov, Kommuna Ismoilova, Sultonposhsha Rahimova, Matyoqub Rahimov, Quvondiq Iskandarov, Jumanazar Bekchonov, Olmaxon Hayitova, Roʻzmat Jumaniyozov, Ortiq Otajonov, Otajon Xudoyshukurov, Bobomurod Hamdamov; sozandalardan dutorchi N. Boltayev, qoʻshnaychi Q. Bobojonov, torchi H. Bobojonov, gʻijjakchi O. Hasanov; bastakorlar R. Ollaberganov, Sh. Ramazonov, Sh. Solayev, A. Otajonov, M. Yusupov, S. Hayitboyev, U. Musayev, R. Abdullayev, Q. Polvonov, M. Otajonov, R. Bekchonov, Sh. Fayzullayev, Q. Rahimov; musiqashunos O. Matyoqubov va boshqa maʼlum. 1958-1960-yillar orasida M. Yusupov tomonidan toʻplab notaga olingan „Oʻzbek xalq musiqasi“ (6,7 va 9 jildlar) chop etildi. 1980-1987-yillarda Xorazm maqomlarining yangi toʻldirilgan variantlari nashrdan chiqsi.\\n\\nXorazm viloyatida 16 ta bolalar musiqa maktabi (shulardan 3 tasi sanʼat maktabi), musiqa bilim yurti, filarmoniya, viloyat teleradiokompaniyasi qoshidagi maqomchilar ansambli faoliyat koʻrsatadi.\\n\\nXorazm viloyatidan Devonai Hisobiy, Niyozjonxoʻja, Niyoziy, Xudoybergan muhrkan, Komil Xorazmiy, Matyoqub Xarratov, M. Xudoyberganov, Safo Mugʻanniy, X. Devonov kabi yirik sanʼatkorlar; Bola baxshi, Q. Iskandarov, R. Jumaniyozov, F. Davletov singari Oʻzbekiston xalq dostonchi va hofizlari; Matyusuf Xarratov, M. Yusupov, R. Ollaberganov, Sh. Ramazonov, L. Abdullayeva, I. Niyozmatov, R. Abdullayev, O. Matyokubov, S. Davletov, U. Musayev, O. Ollaberganov, Q. Rahimov kabi Oʻzbekistonda xizmat koʻrsatgan sanʼat arboblari va kompozitorlar; Sheroziy (Yokubov), K. Otaniyozov, H. Boltayev, K. Rahimov, M. Rahimov, B. Rahimova, S. Devonov, S. Rahimova, G. Yoqubova, M. Ixtiyorova, O. Hayitova, G. Matyoqubova, M. Bobojonov, O. Otajonov, G. Rahimova singari Oʻzbekiston xalq artistlari; Norbek baxshi, Qalandar baxshi kabi Oʻzbekiston xalq baxshilari yetishib chiqqanlar.\\n\\nXorazm viloyatida xalq amaliy sanʼati va hunarmandchilik, ayniqsa, Xiva, Hazorasp va Xonqa shaharlarida qadimdan taraqqiy etgan. Yogʻoch oʻymakorligi, zargarlik, kandakorlik, gilamchilik, kulolchilik va boshqa rivojlangan. Xiva gilamchilik fabrikasi, „Xiva sopoli“ aksiyadorlik jamiyati va boshqa ishlab turibdi. Oʻzbekiston xalq rassomi A. Boltayev, xalq naqqoshlari va yogʻoch oʻymakor ustalari O. Polvonov, R. Masharipov, S. Bogʻbekov, mashhur kulol, koshinkor usta R. Matchonov va boshqalarning nomlari mashhur.\\n\\nSogʻliqni saqlash \\nViloyatda 6269 oʻrinli 36 kasalxona va 211 tibbiy muassasalarda 3882 vrach (har 10 ming kishiga 27,1 vrach), 13337 oʻrta tibbiy xodim ishlaydi. Davlat dasturiga asosan, viloyatda Respublika shoshilinch tibbiy yordam markazining viloyat boʻlimi va barcha tuman markaziy kasalxonalari qoshida uning boʻlinmalari tashkil etilgan hamda zaruriy tibbiy va texnik jihozlar bilan taʼminlangan. Xorazm viloyatida 4010 oʻrinli 20 sanatoriy faoliyat koʻrsatadi.\\n\\n2004-yilgacha oʻz kasbi boʻyicha xususiy ish faoliyati yuritish uchun 50 ga yaqin mutaxassisga litsenziya berildi.\\n\\nSport \\nXorazm viloyati sportchilari sportning koʻplab turlari boʻyicha turli darajadagi musobaqalarda ishtirok etmoqda (kurash, futbol, gandbol, voleybol, tennis, boks va boshqalar). „Umid nihollari\\xa0— 2003“ sport musobaqalari oʻtkazilishi munosabati bilan shahar va tumanlarda 17 ta yirik sport inshootlari, „Olimpiya zaxiralari“ kolleji, 10- 15 ming kishilik stadion foydalanishga topshirildi.\\n\\nViloyatda 14 sport majmuasi, shuningdek, 16 stadion, 8 suzish havzasi, 136 tennis korti, otchopar, sport zallari, otish tiri, basketbol, gandbol, futbol maydonlari bor. 389 ming kishi jismoniy tarbiya va sport bilan shugʻullanadi. Turli miqyosdagi respublika va xalqaro sport musobaqalarida viloyatning 9 sportchisi oltin, 8 tasi kumush medallarga sazovor boʻlishdi. Xorazmda „Umid nihollari-2003“ tadbiri katta bayram sifatida nishonlandi. „Umid nihollari“, „Prezident kubogi uchun“, Pahlavon Mahmud xotirasiga bagʻishlab oʻtkazilgan respublika va xalqaro sport bellashuvlarida 6 sportchi respublika va jahon chempioni unvonlarini oldilar.\\n\\nXorazm viloyatida 10 dan ortiq xalqaro toifadagi sport ustasi, 100 dan ortiq sport ustasi, 300 dan ziyod sport ustaligiga nomzod, shuningdek, koʻplab 1-toifadagi sportchi tayyorlandi. Viloyatning 30 dan ortiq sportchisi Oʻzbekistonning turli milliy terma jamoalari aʼzolaridir.\\n\\nAdabiyoti \\nXorazm adabiyoti zamonlar silsilasida yemirilib, yoʻqotilib, qayta shakllandi. Arablar Xorazmga bostirib kelganda oʻzlariga qaraganda juda ham yuqori madaniyatga duch keldilar. VIII asrga kelib qadimgi xorazmiy tilining batamom yoʻqotilishi bilan VIII asrdan toki XII-XIII asrlargacha fors hamda arab va XII asrlardan boshlab turk oʻzbek tillarida ijod qilindi. Abu Mansur Saolibiyning „Yatimat addaxr fi maxosin axlal asr“ („Asr ahlining fozillari haqida zamonasining durdonasi“) tazkirasida X-XI asrlarda Xorazmda yashab, arab tilida ijod etgan yetuk arabnavislar haqida keng maʼlumot beriladi. Qariyb 5 asr davomida (VIII-XII asrlar) arab tilida ijod qilgan koʻpgina Xorazm shoirlari oʻz faoliyati bilan Xuroson va Movarounnahrda shuhrat qozonganlar. XI asr boshida Xorazmda ilk bor tashkil etilgan Xorazm Maʼmun akademiyasida jahon tarixi, fani va adabiyotiga munosib ulush qoʻshgan Beruniy raisligida Ibn Sino, Abu Nasr Iroq kabi zamonasining yirik fan va madaniyat namoyandalari ijod qildilar. Asli balxlik boʻlib, Xorazmda turgʻun yashab Xorazmshoh Otsiz hukmronligi davrida yuqori martabaga ega boʻlgan Rashididdin Vatvot („Saʼd al-mulk“ faxriy unvonini olgan) fors va arab tillarida ijod qilib sheʼriyatda murassaʼ, tarseʼ, tajnis va boshqa usullarni qoʻllashda fors tilida yozadigan peshqadam shoirlardan biri hisoblanadi. Ahmad Yassaviyning shogirdi Sulaymon Boqirgʻoniy XII asrdayoq turkiyda ijod qilgan. Bu davrlarda arab, fors tillari va turkiyda baravariga ijod qilingani oʻsha davr adabiy muhitining naqadar koʻp qirraligini koʻrsatadi. Xorazmdagi adabiy jarayon Chingizxon istilosi va undan keyingi davrda ancha murakkab kechgan boʻlsa-da, toʻxtab qolmadi. Kubroviylik tariqatining asoschisi, „Shayxi valitarosh“ („Avliyolar yetishtiruvchi shayx“) nomi bilan butun Sharqqa mashhur boʻlgan shoir Najmiddin Kubro, „Muhabbatnoma“ muallifi Xorazmiy (XIV asr), Nasriddin Burhoniddin Rabgʻuziy (XIII asr oxiri\\xa0— XIV asr boshlari), Pahlavon Mahmud, Haydar Xorazmiy, Qutb Xorazmiy, Sayfi Saroyi (XIV asr) kabi buyuk siymolar ijod etgan. Rabgʻuziyning „Qissasi Rabgʻuziy“ asari oʻzbek nasrining mukammal namunasi boʻlishi bilan eʼtiborlidir. Xorazm adabiy muhiti, ilm-fani jahon maʼrifati taraqqiyotiga taʼsiri eʼtirofga loyiq. Az-Zamaxshariy arab dunyosini kezib ilm tarqatgan boʻlsa, 1414-yilda Sherozga kelgan Abdurahim Hofiz Xorazmiy turkiyda bitgan gʻazallari bilan shuhrat topgan.\\n\\nAlisher Navoiy „Majolis un-nafois“ asarida Xoja Abulvafoyi Xorazmiy va Mavlono Jaloliddin Rumiy masnaviysiga sharh bitgan Husayn Xorazmiylarni katta hurmat bilan taʼriflaydi. Xorazm adabiy jarayonining rivojlanishi natijasida yetuk adabiyot namoyandalari yetishib chiqa boshladi. Bular Ravnaq (1725-1805), Roqim (1742-1825), Nasimiyning gʻazallarini oʻzbek tiliga agʻdargan mashhur shoir Andalib (1710-70), Vosifiyning „Badoye ul-vaqoyeʼ“ asarini forsiydan tarjima qilgan, oʻzbek va fors tillarida baravar ijod etgan Dilovarxoʻja (XVIII asr), Navoiyning „Xamsa“sidagi dostonlarning nasriy variantlarini yaratgan Umar Boqiy (XVIII asr), oʻz zamonasining ulugʻ shoirlari Munis, Ogahiy, Komil Xorazmiy (1825-1899), Bayoniy va boshqalardir.\\n\\nFeruz davrida Xorazm adabiy muhiti yanada rivojlandi. Uning buyrugʻi bilan shoir Tabibiy „Majmuai 30 shuaro payravi Feruz“ tazkirasini tuzadi va Feruzning 101 gʻazaliga 30 shoir yozgan payravni kiritadi. Tazkiranavis Laffasiy tuzgan „Tazkirai shuaro“da (1945) Munis davridan Laffasiy davrigacha ijod qilgan (Munis va Laffasiy bilan birga) Xorazmdagi 51 shoirning hayoti va ijodi haqidagi maʼlumotlar bitilgan.\\n\\nXorazmda qadimdan dostonchilik rivojlangan. Xalq anʼanaviy dostonlari baxshilar orqali ogʻizdanogʻizga oʻtib sayqallangan. „Avazxon“, „Bozirgon“, „Sayyodxon va Hamro“, „Qorakoʻz Oyim“, „Gulruh pari“, „Shobaxrom“, „Zavriyo“, „Oshiq Gʻarib va Shohsanam“, „Yusuf Ahmad“ kabi dostonlar Xorazm xalq ogʻzaki ijodining nodir boyligidir. Xorazm xalq dostonlari hajmi boshqa oʻzbek xalq dostonlariga qaraganda kichikligi, shu bilan birga musiqaviyligi bilan ajralib turadi. Xorazmda doston kuylovchilarni baxshi deb atab kelganlar. Xorazm vohasida XIX asrning 1-yarmida Eshvoy baxshi mashhur boʻlgan. Xorazm vohasida muallif nomi bilan atalgan „Eshvoy nagʻmasi“ kuyi tarqalgan. XIX asrda Xorazmda yashab ijod qilgan baxshilardan Otash, Gʻaribniyoz baxshilar, Bobo baxshi, Jumanazar baxshi Bobo baxshi oʻgʻli, Bekjon baxshi, Abdrim baxshi va boshqa shuhrat qozongan. XX asr boshlarida Xoʻjayoz baxshi atoqli baxshi hisoblangan. U „Oshiq Gʻarib va Shohsanam“, „Sayyodxon va Hamro“, „Bozirgon“, „Alpomish“ va „Goʻroʻgʻli“ turkumidagi dostonlarni yod bilgan va uni xush ovoz bilan dutor joʻrligida ijro etgan. Undan keyingi davrda Bola baxshi, Matnazar Jabbor oʻgʻli, Qalandar baxshi, Bola baxshining farzandlari Norbek baxshi, Matyoqub va Yetmishboy baxshilar Xorazm dostonchilik maktabini taraqqiy qilishga hissa qoʻshdilar.\\n\\nXorazmdagi xalq ogʻzaki ijodining yana bir turi xalfachilikdir. Xalfalar (folklorda) repertuarida xalq dostonlari, rang-barang xalq qoʻshiqlari, mumtoz shoirlarning ashulabop gʻazallari asosiy oʻrin olgan. XIX-XX asrning 2-yarmida Xorazmda Xonimjon xalfa, Onajon xalfa, Onabibi kori (Ojiza), Shukurjon xalfa, Sharifa xalfa, Joni xalfa, Bibijon xalfa, Durxonim xalfa, Kish xalfa, Guljon kori, Oysha kulol xalfa, Yoqut xalfa Vafoyeva, Sharifa noʻgʻay Otasheva, Ugʻil Noʻgʻay Quryozova, Yoqut xalfa Seytniyazova va boshqalarning nomlari xalq orasida tanilgan edi. Xalfachilik sanʼati anʼanalari Xorazm yosh ijrochilari tomonidan keyingi davrlarda ham davom ettirilmoqda.\\n\\nXX asrda Xorazm adabiyotshunosligida Mugʻanniy, Suhanvar, Umar Qurboniy, Qalandar Qurboniy, M. Abdullayev, Egam Rahim, Ahmad Bobojon, Ayyomiy, Rahim Bekniyoz, Doʻstjon Matjon va boshqalarning nazm va nasriy asarlarida maʼrifatchilik gʻoyalari oʻz aksini topgan.\\n\\nOmon Matjon, Bahrom Roʻzimuhammadning falsafiy sheʼriyati, Erkin Samandarning „Daryosini yoʻqotgan qirgʻoq“, „Tangri qudugʻi“, Komil Avazning „Qoʻnalgʻa“ romanlari, Matnazar Abdulhakimning Najmiddin Kubro, Bedil, Pahlavon Mahmud ruboiyoti va gʻazallarining oʻzbek tiliga tarjimalari muhim ahamiyatga ega. Professorlardan O. Madrahimov, S. Roʻzimboyev, Z. Doʻsimov, J. Yusupov, arab va fors tillari bilimdoni A. Ahmedov va boshqa adabiyotshunoslikka doir asarlar yozdilar. Ayniqsa, bu borada H. Abdullayevning Abu Bakr Xorazmiydan hozirgacha yashab ijod qilgan adabiyot ahlining hayoti va ijodini aks etttirguvchi tazkirasi, N. Krbulovning 2 jildli „Xorazm adabiy muhiti“ asari, S. Roʻzimboyevning „Goʻroʻgʻli“ kitobi muhim ahamiyatga ega boʻldi.\\n\\nXorazm viloyatida Oʻzbekiston ijodiy uyushmalari (yozuvchilari, rassomlar va boshqalar) viloyat tashkilotlari faoliyat koʻrsatmoqda.\\n\\nMatbuot, radioeshittirishi va televideniyesi \\nXorazm viloyatida 2 viloyat gazeta („Xorazm haqiqati“ va „Xorezmskaya pravda“, 2 ta gazeta adadi 5500), 10 tuman gazeta, 3 jurnal („Ilm sarchashmalari“, „Diydor“, „Xiva-Sharq gavhari“, adadi 2000) nashr etiladi. Viloyatda, shuningdek, bir qancha tarmoq gazetalari chop qilinadi. Jami 27 nomdagi gazeta va jurnallar chiqariladi.\\n\\nXorazm (Xiva)da Muhammad Rahimxon Feruz tashabbusi bilan 1874-yilda Turkistonda ilk bor toshbosma ochilgan. Toshbosmada ilk matbaachilik faoliyatini birinchi oʻzbek matbaachisi Otajon Abdalov boshlagan. Ushbu toshbosma faoliyati keyinroq, 1920-yildan „Inqilob quyoshi“ gazetasi, 1939-yildan „Xorazm haqiqati“, 1941-yildan „Xorezmskaya pravda“ gazetalarining tashkil qilinishiga zamin yaratgan.\\n\\nXorazm viloyatida 1874—1924-yillarda faoliyat koʻrsatgan matbaachilik anʼanalari 1991-yilda qayta tiklandi. „Xorazm“ nashriyoti ishga tushirilib, darsliklar, kitoblar nashr etish yoʻlga qoʻyildi. „Xorazm tarixi“ (1995), „Hazorasp tarixi“, „Xonqa tarixi“ (1995-1998), „Avestoning yaratilishi“ (2001), „Maʼmun akademiyasi“ (toʻplam, 2003) kabi kitoblar chop etildi.\\n\\nXorazm viloyatida birinchi radioeshittirishlar 1936-yildan boshlangan. Viloyat radiosi oyiga 31 soatlik hajmda eshittirishlar beradi. Telekoʻrsatuvlar 1961-yildan olib boriladi. Mahalliy koʻrsatuvlar, 1979-yildan rangli tasvirda (oʻzbek va rus tillarida), haftasiga 15 soat hajmda namoyish qilinadi.\\n\\nMeʼmoriy yodgorliklari \\nXorazm viloyatidagi tarixiy va meʼmoriy yodgorliklar jahonga mashhur. Viloyatda 149 meʼmoriy va shaharsozlik, 16 arxeologik, 21 monumental sanʼat va haykaltaroshlik yodgorligi bor. Meʼmoriy yodgorliklarning asosiy qismi Xiva shahrida joylashgan. Uning Ichan qalʼa qismi esa UNESCOning Jahon merosi qoʻmitasi hisobiga kiritilgan. Xivadagi yodgorliklardan Juma masjid (X-XVIII asrlar), Pahlavon Mahmud meʼmoriy majmuasi (XIV asr, XIX-XX asr boshlari), Said Alouddin (XIV-XVIII asrlar), Uch Avliyo (1549, 1821) maqbaralari, Toshhovli (XIX asr), Koʻhna Ark (XVII-XIX asrlar) saroylari, Muhammad Aminxon madrasa va minorasi va boshqa mehmonlar va sayohatchilar diqqatini oʻziga tortadi. Shuningdek, Xiva, Hazorasp, Xonqa, Shovot, Yangiariq, Qoʻshkoʻpir, Bogʻot va boshqa tumanlarida ham tarixiy obidalar mavjud. Shulardan Xiva tumanidagi Chodra hovli (XVIII-XIXasrlar), Shohimardon meʼmoriy majmuasi (XIX asr), Qubla tozabogʻ saroyi (1893-1913), Hazoraspdagi Muzrobshoh (XVI-XVIII asrlar), Shayx Qosim eshon maqbaralari (XVIII-XIX asrlar), qadimgi Hazorasp qalʼasi (mil. av. VI-V asrlar), Xonqa tumanidagi Said ota masjidi (1766), Shovot tumanidagi Vayangan bobo maqbarasi (XVI-XIX asrlar); Yangiariq tumanidagi Shayx Muxtor Valiy meʼmoriy majmuasi (Ostonabobo, XIV asr) ; Qoʻshkoʻpir tumanidagi Imorat bobo meʼmoriy majmuasi (XVI-XIX asrlar) va boshqalarni aytish mumkin.\\n\\nMustaqillik yillarida viloyatda yakka tartibda uy-joy qurish tez rivojlandi. Urganch, Xiva shaharlarlariga yoʻldosh Navroʻz, Qosmaobod shaharchalari bunyod etildi. Viloyatda tarixiy va meʼmoriy yodgorliklarni asrash, taʼmirlash ishlariga Oʻzbekiston hukumati tomonidan katta eʼtibor berilmoqda. Xiva shahrining 2500 yillik yubileyi (1997), Jaloliddin Manguberdining 800 yiligi (1999), Avesto kitobi yaratilishining 2700 yilligi (2001) bayramlari arafasida viloyatda keng miqyosda meʼmoriy yodgorliklarni taʼmirlash, ular atroflarini obodonlashtirish va koʻkalamzorlashtirish ishlari amalga oshirildi. Xorazm viloyati 2003-yil 22-avgustda Jaloliddin Manguberdi ordeni bilan mukofotlangan.\\n\\nAdabiyotlar \\n\\n Tolstov S. P., Qadimgi Xorazm madaniyatini izlab, T., 1964; \\n Vinogradov A. V., Neoliticheskiye pamyatniki Xorezma, M., 1968; \\n Srednyaya Aziya v drevnosti i srednevekovye, M., 1977; \\n Trudi Xorezmskoy arxeologoetnograficheskoy ekspeditsii, t. 1-10, M., 1952-77; \\n Xorazm tarixi, 1995, Urganch; Qilichev T., Xorazm xalq teatri, T.; \\n Sadokov R. L., Muzikalnaya kultura drevnego Xorezma, M., 1970; \\n Sadokov R. L., Tisyacha oskolkov zolotogo saza, M., 1971.\\n Xorazm.uz\\n\\nManbalar \\n\\nXorazm\\nXorazm viloyati\\nOʻzbekiston viloyatlari', 'prompt': 'Title: Xorazm viloyati\\nContent: Xorazm viloyati\\xa0— Oʻzbekiston Respublikasi tarkibidagi viloyat. 1925-yil fevraldan 1938-yil yanvargacha Xorazm okrugi, 1938-yil 15-yanvarda viloyat maqomiga oʻtkazilgan. Umumiy maydoni\\xa0— 6,05 ming kvadrat kilometr.\\n\\nEtimologiyasi \\nXorazm soʻzi birinchi marta zardushtiylarning muqaddas kitobi „Avesto“da tilga olingan. Qadimgi xorazm tilidan tarjima qilingan Xorazm „pastlikdagi yer“, „oziq-ovqatli yer“ degan maʼnoni bildirgan degan fikrlar ham bor.\\n\\nTarixi \\nMiloddan avvalgi 8-asrda xorazmliklar tomonidan asos solingan Markaziy Osiyodagi eng qadimiy davlatlardan biri tashkil topdi. Bu yerda massagetlar, saklar, apasaklar, oslar, daxlar va boshqalar qabilalari ham yashagan.\\n\\n12-asrda Oʻrta Osiyoda qudratli Xorazmshohlar davlati tashkil topdi. U oʻzining eng gullab-yashnagan choʻqqisiga 13-asr boshlarida Alauddin Muhammad II davrida erishgan. Ammo imperiyaning gullagan davri uzoq davom etmadi va u moʻgʻullar bosqinidan natijasida Xorazmshohlar davlati quladi.\\n\\n1920-yil fevral oyida Xiva xonligining vorisi sifatida Xorazm Xalq Sovet Respublikasi tashkil topdi.\\n\\nHukmdor rasman taxtdan voz kechgach, 1920-yil 26-aprelda Birinchi Xorazm Qurultoyi (yigʻilishi) eʼlon qilindi.\\n\\n1923-yil 30-oktabrda XXSR Xorazm Sotsialistik Sovet Respublikasiga aylantirildi. Oʻrta Osiyoda milliy-hududiy chegaralanish munosabati bilan Xorazm SSR tugatilishini eʼlon qildi. Xorazm SSRning oʻzbeklar yashaydigan 23 ta tumani yangidan tashkil qilingan Oʻzbekiston SSR tarkibiga Xorazm viloyati qilib kiritildi. U 1924-yilning kuzigacha, uning hududi Oʻzbekiston SSR (Xorazm viloyati tarkibida), Turkmaniston SSR va Qoraqalpogʻiston Muxtoriyati oʻrtasida boʻlingangacha mavjud edi.\\n\\n1925—1930-yillarda va 1932—1938-yillarda Xorazm tumani tashkil etilgan. 1938-yil 15-yanvarda alohida viloyat sifatida tashkil topdi.\\n\\nXorazm algebra va algoritm asoschisi Muhammad bin Muso Al Xorazmiy va shar shaklidagi yer xaritasini yaratgan Abu Rayxon Beruniy hamda boshqa olim va arboblarning vatani hisoblanadi.\\n\\n2003-yilda Xorazm viloyati Jaloliddin Manguberdi ordeni bilan taqdirlangan.\\n\\nMaʼmuriy-hududiy tuzilishi \\nRespublikaning shimoli-gʻarbida, Amudaryo quyi oqimining chap sohilida. Shimoliy va shimoli-sharqdan Qoraqalpogʻiston Respublikasi, janubiy va janubi-gʻarbdan Turkmaniston, janubi-sharqdan Buxoro viloyati bilan chegaradosh. Tarkibida 11 qishloq tumani (Bogʻot, Gurlan, Urganch, Xiva, Xonqa, Shovot, Yangiariq, Yangibozor, Qoʻshkoʻpir, Hazorasp va Tuproqqal’a), 3 shahar (Urganch, Xiva, Pitnak), 7 shaharcha (Gurlan, Xonqa, Chalish, Shovot, Yangibozor, Qoʻshkoʻpir, Hazorasp), 100 qishloq fuqarolari yigʻini bor. Viloyat 11 ta tumanga ajratilgan, maʼmuriy markazi\\xa0– Urganch shahri. Viloyatning boshqa katta shaharlari\\xa0– Xiva va Pitnak.\\n\\nXorazm viloyatida  56 ta shahar tipidagi aholi punktlari bor. 2020-yil mart oyida Hazorasp tumanining sharqiy qismidan yangi Tuproqqalʼa tumani tashkil etildi.\\n\\nAholisi \\nViloyat aholisi 1 930 747 kishi, taxminan 60 foizi qishloq joylarda yashaydi. Hududlar kesimidagi aholi soni:\\n\\n Urganch tumani\\xa0— 205 480 kishi,\\n Hazorasp tumani\\xa0— 198 657 kishi,\\n Xonqa tumani\\xa0— 191 620 kishi,\\n Qoʻshkoʻpir tumani\\xa0— 176 059 kishi,\\n Shovot tumani\\xa0— 174 352 kishi,\\n Bogʻot tumani\\xa0— 169 486 kishi,\\n Gurlan tumani\\xa0— 151 950 kishi,\\n Xiva tumani\\xa0— 149 698 kishi,\\n Urganch shahri\\xa0— 146 709 kishi ,\\n Yangiariq tumani\\xa0— 118 925 kishi,\\n Xiva shahri\\xa0— 95 246 kishi,\\n Yangibozor tumani\\xa0— 89 427 kishi,\\n Tuproqqal’a tumani\\xa0— 56 558 kishi.\\n\\nAholisining etnik tarkibi \\nQadimda Xorazmda yashovchi oʻzbek qabilalari bir necha etnik guruhlar boʻlib, ular Abulgʻoziy Bahodirxon (1643-1664) tomonidan 4 guruh (toʻp)ga boʻlingan. Har bir guruhga 2 qabila (birinchi guruhga uygʻur va nayman, ikkinchisiga qoʻngʻirot va qiyot, uchinchisiga nukuz va mangʻit, toʻrtinchisiga qangʻli va qipchoqlar) birlashtirilgan. Shuningdek, bir necha qabila qoldiqlari (jaloyir, kenagas, doʻrmon, yuz, ming, shix, qatagʻon) va ayrim etnik guruhlar (alieli, xoʻjaeli va sayidlar) mavjud boʻlgan. Amudaryodan suv oladigan kanallar va sugʻoriladigan yerlarning katta qismi shu qabila va urugʻlarga taqsimlab berilgan va ular asta-sekin oʻtroqlashib, dehqonchilik bilan shugʻullanganlar. Qolgan guruhlar Xorazmda juda kam boʻlib (bular qoʻngʻirotlar va boshqalar) viloyatning Gurlan va Shovot tumanlari, mangʻitlar Gurlan tumani va Shovot tumani (AnbarManaq)da, qiyotlar Shovot tumanida, qipchoqlar Urganch, Shovot va Qoʻshkoʻpir tumanlari, doʻrmonlar Urganch va Shovot (Anbar Manaq) tumanlarida, xidireli Urganch va Xivada, toma Xonqa va Bogʻot tumanlarida joylashgan.\\n\\nIqtisodiyoti \\nViloyatda 32 ta xorijiy investitsiyali qoʻshma korxona faoliyat yuritadi. Ular budjeti 1997-yilda 301,7\\xa0million AQSh dollarini tashkil etdi. Viloyat iqtisodiyoti paxtani qayta ishlash va oziq-ovqat sanoatiga asoslangan. Koʻp sonli paxta tozalash zavodlari, neft qazib oladigan va ipak yigiradigan fabrikalar, toʻqimachilik va vinochilik korxonalari va hokazolar. Shuningdek, qurilish materiallarini ishlab chiqarish taraqqiy etgan. Xiva gilam fabrikasida tayyorlangan gilamlar butun dunyoga mashhur.\\n\\nMashinasozlik va toʻqimachilik tarmoqlari rivojlanib bormoqda. Mahalliy qishloq xoʻjaligining asosiy yoʻnalishi\\xa0— albatta, paxtadir. Boshoqlilar, ayniqsa, guruch yetishtirish soʻnggi bir necha yilda keskin oshdi. Shuningdek, koʻplab bogʻ va uzumzorlar, qovun va qovoq plantatsiyalari bor, kartoshka dalalari butun viloyatni qamrab olgan. Shakar tozalash zavodi qurilishi rejalashtirilmoqda. Viloyat iqtisodiy jihatdan oʻsishga tayyor.\\n\\nMazkur sohalarga eʼtibor qaratilsa, quyidagilarga erishish ehtimol qilinmoqda:\\n\\nPaxta, ipak xom ashyosi va boshqa mahalliy zaxiralardan foydalanadigan mavjud korxonalarni taʼmirlash, texnik zamonaviylashtirish va kengaytirish. Paxta tolasini qayta ishlash jarayonini yaxshilash va oshirish, ip, gazlama, paxta yigiruv ipi va gilamlar tayyorlash va eksport qilish zarur.\\n\\nMavjud oziq-ovqat sanoati tarmoqlarini yangilash va yangilarini, ayniqsa, mevalar, uzum, sabzavot, qovun va qovoq bilan bogʻliq korxonalarni tashkil etish. Goʻsht-sut mahsulotlariga asoslangan korxonalar kengaytirilishi kerak.\\n\\nOʻrab-joylash uskunalarini ishlab chiqarish. Idish materialarining yetishmasligi\\xa0— eksportga moʻljallangan tomat pastasi, oʻsimlik yogʻi, turli turdagi jem va marmeladlar ishlab chiqarish yoʻlida jiddiy toʻsiq boʻlmoqda.\\n\\nUshbu loyihalarni amalga oshirish uchun viloyatga xorijiy investitsiyalar koʻrinishida qariyb 52,1\\xa0million AQSh dollari zarur. Xorazm viloyati temiryoʻllari umumiy uzunligi 130 km dan ortiq. Viloyat Rossiyaning Yevropa qismi va Kavkaz bilan temiryoʻl orqali bogʻlangan. Yoʻllarning umumiy uzunligi\\xa0— 2 300 km, shoh koʻchalar 2 000 km masofaga yastangan. Viloyat aviareyslari Xorazmni butun Markaziy Osiyo, shuningdek, Rossiya mintaqalarining katta qismi va MDH bilan birlashtiradi. Xiva\\xa0— xalqaro sayyohlikning katta markazi. 1997-yilda Xiva oʻzining 2500-yilligini nishonladi. Xiva atrofida sayyohlikni yanada rivojlantirish uchun koʻp ishlar qilindi.\\n\\nTabiati \\nIqlimi keskin kontinental, oʻrtamiyona sovuq qish va quruq issiq yoz boʻladi. Viloyat choʻl zonasida, Xorazm vohasining gʻarbiy qismida, oʻrtacha 100 m balandlikda joylashgan. Relyefi pasttekislikdan iborat. Amudaryo qadimgi deltasining bir qismi boʻlib, daryo yotqiziqlaridan tashkil topgan. Qoraqum choʻliga tutashgan gʻarbiy va janubi-gʻarbiy qismi qum bilan qoplangan. Foydali qazilmalardan ohaktosh, qum, gil va boshqa qurilish materiallari bor. Qishi moʻtadil sovuq, qor kam yogʻadi, yanvarning oʻrtacha temperaturasi −5°, eng past temperatura −32°. Yozi issiq, quruq, iyulning oʻrtacha temperaturasi 30°, eng yuqori temperatura 47°. Vegetatsiya davri 200-210 kun. Yiliga 78-79\\xa0mm yogʻin tushadi, asosan, mart-aprel oylarida yogʻadi. Shimoliy va shimoli-sharqiy shamollar esadi. Yagona daryosi\\xa0— Amudaryo viloyat hududida keng vodiy boʻylab oqadi, qirgʻoqlari past, shu sababli toshqin boʻlib turadi. Toshqinga qarshi dambalar qurilgan. Amudaryo suvidan yirik kanallar yerdamida ekinlarni sugʻorishda foydalaniladi. Viloyat janubida mayda shoʻr koʻl, botqoqlik va shoʻrxok koʻp. Tuproqlari Amudaryoning allyuvial yotqiziqlaridan tashkil topgan. Daryo vodiysida oʻtloqi va oʻtloqi-botqoq tuproqlar, gʻarbida qumliklar uchraydi. Sugʻoriladigan yerlarda, asosan, boʻz tuproq boʻlib, kuchli shoʻrlangan. Viloyat hududining asosiy qismi haydaladigan yerlar. Amudaryo qirgʻoqlaridagi toʻqayzorlarda terak, tol, jiyda, yulgʻun, kandir, qumliklarda saksovul va boshqa oʻsimliklar oʻsadi. Yovvoyi hayvonlardan, asosan, kemiruvchilar, sudraluvchilar, toʻqayzorlarda toʻqay mushugi, chiyaboʻri; qushlardan toʻrgʻay, oʻrdaklar, kulrang gʻoz, oqqush, birqozon, baliqchi, dehqonchumchuq, qizilishton, zargʻaldoq va boshqalar bor. Suv havzalarida ondatra va nutriya iqlimlashtirilgan.\\n\\nAholisi, asosan, oʻzbeklar (96,3\\xa0%), shuningdek, turkman, rus, qozoq, tatar, koreys, qoraqalpoq va boshqa millat vakillari ham yashaydi. Aholining oʻrtacha zichligi 1 km² ga 231,6 kishi. Shaharliklar 321,7 ming kishi, qishloq aholisi 1091 ming kishi (2004).\\n\\nHududiy boʻlinishi\\n\\nXoʻjaligi va sanoati \\nXorazm viloyati iqtisodiyotida qishloq xoʻjaligi bilan birga sanoat ham salmoqli oʻrinni egallaydi. Paxta tolasi, kalava ip, gilam, oziq-ovqat mahsulotlari, mashina uskunalari eksport qilinadi. Viloyatda paxta tozalash sanoati rivojlangan (barcha tuman markazlari va Urganch shahrida paxta tozalash zavodlari bor). Gurlan, Bogʻot, Xonqa, Urganch, Xiva va Hazoraspda toʻqimachilik, pillachilik, tikuvchilik; Xivada gilam fabrikasi, „Xiva gilami“ aksiyadorlik jamiyati ishlab turibdi. Faoliyat koʻrsatayotgan jami korxona va tashkilotlar 13748 ta. Mikrofirmalar soni 11340 dan ziyod (2004).\\n\\nViloyatda 36 qoʻshma korxona va ularning filiallari ishlab turibdi. Oʻzbekiston\\xa0— Turkiya „Bagat Tekstil“, „Xorazm-Nurtop“, „SemurgʻSanTe“, „Xorazm Tekstil“, „Memgilam“; Oʻzbekiston\\xa0— AQSh „Amerozindustriyes“, „Xiva malikasi“, „Nurlayt“, „Rahnamo Hyp“; Oʻzbekiston\\xa0- Germaniya „Unixo“, „OʻzOlmonXotelz“, „Xiva Karpet“; Oʻzbekiston-Britaniya „Xiva“; Oʻzbekiston-Rossiya „NamunaAgrofud“; Oʻzbekiston\\xa0- Italiya „Meva“; Oʻzbekiston-Ukraina „KiyevXorazm“; Oʻzbekiston\\xa0— Xitoy „Aziya Tekstil LTD“; Oʻzbekiston-Turkmaniston „GʻayratXumoyun“ va boshqa shular jumlasidandir.\\n\\nQishloq xoʻjaligi asosini paxtachilik va gʻallachilik tashkil etadi. Polizchilik, sabzavotchilik, bogʻdorchilik, chorvachilik, pillachilik ham rivojlangan. Shirkat, ijapa va xususiy fermer, dehqon xoʻjaliklari, aksiyadorlik jamiyatlari faoliyat koʻrsatadi. Viloyatda jami ekin maydoni 232,1 ming ga, shundan 129,4 ming ga qishloq xojaligi shirkatlari (69 ming ga yer xususiy fermerlar, 33,7 ming gektar yer dehqon xoʻjaliklari)ga tegishli. Umumiy yer fondining 38,4\\xa0% haydaladi, 18,2\\xa0% yaylov, oʻtloq, 1,3% bogʻ va tokzor; oʻrmon va changalzorlar 9,6\\xa0% ni, tutzorlar 0,9\\xa0%ni tashkil etadi.\\n\\n1991—2003-yillarda kanal va ariqlar rekonstruksiya qilinib, suv yoʻllarining umumiy uzunligi koʻpaydi. Xorazm viloyatidagi shoʻr suvlar viloyat tashqarisiga zaxkashlar orqali chiqarib tashlanadi. Viloyatda irrigatsiya va melioratsiya ishlariga alohida eʼtibor berib kelinmoqda.\\n\\nJami ekin maydonining 102,3 ming gektariga paxta, 86 ming gektariga don, 3 ming gektariga kartoshka, 9 ming gektariga sabzavot ekiladi (2003). Don (asosan, bugʻdoy, sholi) yetishtiriladigan maydonlar kengaydi. Xorazm viloyati mamlakatda sholi yetishtirish boʻyicha 1oʻrinda turadi.\\n\\nViloyat xususiy va jamoa xoʻjaliklarida 492,3 ming qoramol (shu jumladan, 202,1 ming sigir), 247,1 ming qoʻy va echki, 1437,6 ming parranda boqiladi. 6500 dan ziyod fermer xoʻjaligi chorvachilikka ixtisoslashgan. Urganch, Xiva parrandachilik fabrikalari faoliyat koʻrsatadi. Xorazm viloyatida Paxtachilik ilmiy tadqiqot stansiyasining paxtachilik-bedachilik zonal kompleks tajriba styasi (Urganch shahrida), Qoraqum ilmiy tadqiqot stansiyasi, paxta navlarini tajriba qilish uchastkasi (Xiva tumanida), mevali daraxtzorlar koʻchatzori, oʻrmon koʻchatzori (Urganch tumanida) va boshqa bor.\\n\\n1996—2004-yillarda Islom Bobojonov, Masharip Quvoqov, Bekturdi Jumaniyozov, Vera Pak, Anor Mahmudova „Oʻzbekiston Qahramoni“ unvoniga sazovor boʻldilar.\\n\\nTransporti \\nXorazm viloyati orqali Toshkent - Moskva, Dushanbe - Moskva temiryoʻl oʻtgan, Urganch\\xa0— Toshkent yoʻnalishida poyezdlar qatnaydi. Transport yoʻli uzunligi 128 km (2004). Amudaryo ustiga qurilgan Hazorasp temiryoʻl koʻprigi ishga tushirilib (Hazorasp yaqinida, 2004), Hazorasp\\xa0— Miskin\\xa0— Toshkent temiryoʻl masofasi qisqardi. Koʻprik har sutkada 14 poyezd, 20 ming avtomobil oʻtkazish imkoniyatiga ega. Koʻprik strategik ahamiyatga ega. Viloyatdagi qattiq qoplamali avtomobil yoʻllarining uz. 2750 km (2004). Xiva - Urganch yoʻnalishida trolleybus qatnovi (1997-yildan) yoʻlga qoʻyilgan. Urganch, Xiva shaharlaridan Toshkent, Samarqand, Navoiy, Buxoro, Nukus va boshqa shaharlarga avtobuslar katnaydi. Urganch shahri xalqaro va mahalliy yoʻnalishlar aeroportlaridan xorijiy davlatlar (shu jumladan, Parij, Tokio, Munhen, Tel-Aviv, Moskva, Simferopol va boshqalar) shuningdek, Toshkent, Nukus va boshqa shaharlar bilan muntazam aviatsiya aloqasi oʻrnatilgan. Viloyat orqali Oʻrta Osiyo\\xa0— Markaz, Buxoro\\xa0— Ural, Turkmaniston\\xa0— Rossiya xalqaro gaz magistral quvurlari oʻtkazilgan.\\n\\nMaorif, madaniyat, sogʻliqni saqlash va sport \\n2003/04-oʻquv yilida 537 umumiy taʼlim maktabi (shu jumladan, 47 ixtisoslashgan maktab, gimnaziya, internat maktabi) boʻlib, 335,4 mingga yaqin oʻquvchi taʼlim oldi. 1997-yilda Xorazm tasviriy va amaliy sanʼati litseyi ochildi. Viloyatdagi 57 kasb-hunar kolleji va oʻrta maxsus oʻquv yurtlarida 34 mingdan ziyod talaba oʻqiydi (2004).\\n\\nOʻzbekiston Respublikasi Prezidenti Islom Karimovning tashabbusi bilan Xorazm Ma\\'mun akademiyasi qayta tiklandi, pedagog kadrlar tayyorlashga ixtisoslashgan viloyat pedagogika instituti (1935\\xa0— 1992) Al-Xorazmiy nomidagi Urganch davlat universitetiga aylantirildi. Urganch davlat universiteti, Toshkent tibbiyot akademiyasining Urganch filialida 7460 talaba taʼlim oladi (2004). Oʻzbekiston Fanlar akademiyasi arxeologiya mintaqaviy boʻlimi, paxtachilik, Qoraqum ilmiy tadqiqot stansiyalari faoliyat koʻrsatadi. Xorazm viloyatida Xiva davlat „Ichan qalʼa“ tarixiy-meʼmorlik muzey-qoʻriqxonasi va uning filiallari, 424 jamoat kutubxonasi (5 mln. asar), 302 klub muassasasi, madaniyat uylari va saroylari, 10 ga yaqin madaniyat va istirohat bogʻi, Xorazmiy, Beruniy, Jaloliddin Manguberdi, Avesto yodgorlik bogʻ-majmualari, „Orazibon“, „Avazxon“, „Doston“ folklor-etnografik xalq dastalari, \"Muborak, „Yulduz“, „Navbahor“, „Xiva naqshlari“ ashula va raqs dastalari, milliy dorbozlar guruhi, koʻplab badiiy havaskorlik jamoalari bor. Ogahiy nomidagi viloyat musiqali drama va komediya teatri, viloyat qoʻgʻirchoq teatri (Xiva shahrida) ishlab turibdi.\\n\\nXorazm musiqiy hayoti Xorazm vohasida qadimgidan yashab kelayotgan xalqlarning turmush tarzida muhim oʻrin egallagan. Qadimgi Xorazm hududidagi Qoʻyqirilgan qalʼa, Tuproqqalʼa, Qirqqiz qalʼa kabi istehkomlardan topilgan va asl nomlari saqlanmagan torli (dutorsimon, changkanora, arfaga oʻxshash), damli (nay, mizmar), zarbli (daf va nogʻoraga oʻxshash) cholgʻu sozlarni ushlagan ayol va erkaklar tasvirlari tushirilgan tangalar va ganch haykalchalar bu voha musiqa sanʼatining ildizlari juda qadimgi ekanligidan dalolat beradi. VIII asr boshidagi arablar istilosi oqibatida Qadimgi Xorazm madaniyati va sanʼati xarobalikka yuz tutib, islom madaniyatining yangi anʼanalari taraqqiy eta boshladi. Xorazmiy, Beruniy, Abu Abdullo ibn Yusuf Xorazmiy (X asr) va boshqa olimlarning qomusiy asarlarini musiqaga bagʻishlangan qismlarida musiqani hisob ilmining tarkibiy boʻlagi va uni inson ruhiyatiga taʼsiri taʼriflanadi. „Mafotix ululum“ asarida oʻsha davrdagi mavjud cholgʻular: ud, changkanora, qanun, tanbur, mizmar, argʻanun, nay, surnaylarning nomlari keltirilgan. Oʻsha davrda Gurganjda cholgʻu asboblar yasovchi ustalar mahallasi boʻlgan.\\n\\nMuhammad Xorazmshoh davrida (1200-1221) mashhur sozanda ustod Mahmud, Yusufbek Dutoriy kabi sozandalar edda tanilgan. 14-asrda yashagan „Muhabbatnoma“ dostonining muallifi Xorazmiy, Abdurahim Hofiz Xorazmiy, ayniqsa, Alisher Navoiyning „Sabʼai sayyor“ dostonida va boshqa klassik shoirlarning gʻazallarida oʻsha davr maqomlari, sozandalari va cholgʻulari yuksak did bilan taʼriflanadi. Shuningdek, sanʼatkorlar homiysi Sulton Vayis (Uvays), baxshilar piri Oshiq Oydinlar ham shu davrda yashaganlar. Muhammad Rahimxon (1806-1825) davriga kelib Niyozjonxoʻja va uning shogirdlari Mahdumjon qozi, Muhammadjon Sandiqchi, Abdusattor maxram, uning shogirdi Xudoybergan kosib va boshqa tanbur maqomlarini rivojlanishiga katta hissa qoʻshdilar. Komil Xorazmiy Xorazm maqomlarini oʻzi ixtiro qilgan „Tanbur chizigʻi“ asosida qogʻozga tushirishni boshlab bergan yetuk musiqashunoslardan hisoblanadi. 1883-yilda dastlab Xorazm maqomlari tarkibidagi „Rost“ maqomi, keyin, bu ishni davom qildirib oʻgʻli Muhammad Rasul Mirzo Xorazm maqomlaridan Buzruk, Navo, Dugoh, Segoh, Iroq va Rostlarni qogʻozga tushirgan. Bu davrda Otash baxshi, Nurjon baxshi va ayniqsa, Eshvoy baxshi hamda uning shogirdi Muhammadniyoz Gurji kabi baxshilar nom qozonganlar.\\n\\nNomlari nomaʼlum boʻlgan ustoz sozandalar va baxshilar tomonidan Xorazm dutor yoʻllari jamlanib 11 ta dutor maqomi shakllangan. Mashhur sozanda va nafis taʼb egasi Muhammad Rahimxon Soniy (Feruz) xonlik davri (1864-1910) ga kelib Xorazmda musiqa sanʼati yanada rivoj topdi. Feruz saroyida 40 dan ortiq shoir, 20 ga yaqin maqomchi sozandalarni toʻplab mushoira va maqom kechalarini oʻtkazib turardi. Saroy maqomchilari orasida Paxlavon Niyoz Mirzaboshi Komil, Muhammad Yoqub Devon Xarrot, Yoqub fozachi, Qalandar Doʻnmas va boshqa maqomlarning cholgʻu va aytim qismlarini boyitganlar. Feruzning oʻzi ham maqom cholgʻu qismlariga 14 ga yaqin kuy bastalagan. Bu davrda 40 dan ortiq baxshi, 32 sozanda qoʻshlari (sozandalarning jamlangan dastasi) faoliyat koʻrsatgan. Ular sayil va bayramlarda xonning koʻrigidan oʻtar va el-yurtning tomoshasini oʻtkazishga fatvo olar edilar. Baxshilar ichida mashhurlari: Rizo baxshi, Ernazar baxshi, Suyav baxshi; sozanda qoʻshlaridan elga tanilgan namoyandalardan Shomurod surnaychi va boshqa boʻlgan.\\n\\n1910-yil Xiva xonligi taxtiga Asfandiyorxon oʻtirganidan keyin saroy shoir va sozandalari tarqab ketdi.\\n\\nXorazmda shoʻrolar hokimiyati oʻrnatilgach, maqom va musiqa rivoji biroz toʻxtadi. 1923-yilda Xiva shahrida musiqa maktabi tashkil qilinib, skripka, klarnet, tanbur kabi cholgʻu asboblarda ijro etish boʻyicha sinflar ochiddi. 1925-yilda Moskva shahrida Mulla Bekjon Rahmon oʻgʻli va Muhammad Yusuf Devonzodalarning „Xorazm musiqiy tarixchasi“ kitobi chop ettirdi. Bu davrda sozandalardan Safo Ollaberganov (Mugʻanniy), Qurbon sozchi Ismoilov, Madrahim Yoqubov (Sheroziy), Qurbonnazar Abdullayev (Bola baxshi), Matyusuf Xarratov (Chokar), Otajon Abdullayev, Hojixon Boltayev; ayol xalfalardan Onajon Sobirova (Anash maxram), Onabibi qoriya Otajonova (Ojiza) va boshqa mashhur boʻlishgan. Ularning izdoshlari va shogirdlari ichida xonandalardan Komiljon Otaniyozov, Vahobjon Fayozov, Kommuna Ismoilova, Sultonposhsha Rahimova, Matyoqub Rahimov, Quvondiq Iskandarov, Jumanazar Bekchonov, Olmaxon Hayitova, Roʻzmat Jumaniyozov, Ortiq Otajonov, Otajon Xudoyshukurov, Bobomurod Hamdamov; sozandalardan dutorchi N. Boltayev, qoʻshnaychi Q. Bobojonov, torchi H. Bobojonov, gʻijjakchi O. Hasanov; bastakorlar R. Ollaberganov, Sh. Ramazonov, Sh. Solayev, A. Otajonov, M. Yusupov, S. Hayitboyev, U. Musayev, R. Abdullayev, Q. Polvonov, M. Otajonov, R. Bekchonov, Sh. Fayzullayev, Q. Rahimov; musiqashunos O. Matyoqubov va boshqa maʼlum. 1958-1960-yillar orasida M. Yusupov tomonidan toʻplab notaga olingan „Oʻzbek xalq musiqasi“ (6,7 va 9 jildlar) chop etildi. 1980-1987-yillarda Xorazm maqomlarining yangi toʻldirilgan variantlari nashrdan chiqsi.\\n\\nXorazm viloyatida 16 ta bolalar musiqa maktabi (shulardan 3 tasi sanʼat maktabi), musiqa bilim yurti, filarmoniya, viloyat teleradiokompaniyasi qoshidagi maqomchilar ansambli faoliyat koʻrsatadi.\\n\\nXorazm viloyatidan Devonai Hisobiy, Niyozjonxoʻja, Niyoziy, Xudoybergan muhrkan, Komil Xorazmiy, Matyoqub Xarratov, M. Xudoyberganov, Safo Mugʻanniy, X. Devonov kabi yirik sanʼatkorlar; Bola baxshi, Q. Iskandarov, R. Jumaniyozov, F. Davletov singari Oʻzbekiston xalq dostonchi va hofizlari; Matyusuf Xarratov, M. Yusupov, R. Ollaberganov, Sh. Ramazonov, L. Abdullayeva, I. Niyozmatov, R. Abdullayev, O. Matyokubov, S. Davletov, U. Musayev, O. Ollaberganov, Q. Rahimov kabi Oʻzbekistonda xizmat koʻrsatgan sanʼat arboblari va kompozitorlar; Sheroziy (Yokubov), K. Otaniyozov, H. Boltayev, K. Rahimov, M. Rahimov, B. Rahimova, S. Devonov, S. Rahimova, G. Yoqubova, M. Ixtiyorova, O. Hayitova, G. Matyoqubova, M. Bobojonov, O. Otajonov, G. Rahimova singari Oʻzbekiston xalq artistlari; Norbek baxshi, Qalandar baxshi kabi Oʻzbekiston xalq baxshilari yetishib chiqqanlar.\\n\\nXorazm viloyatida xalq amaliy sanʼati va hunarmandchilik, ayniqsa, Xiva, Hazorasp va Xonqa shaharlarida qadimdan taraqqiy etgan. Yogʻoch oʻymakorligi, zargarlik, kandakorlik, gilamchilik, kulolchilik va boshqa rivojlangan. Xiva gilamchilik fabrikasi, „Xiva sopoli“ aksiyadorlik jamiyati va boshqa ishlab turibdi. Oʻzbekiston xalq rassomi A. Boltayev, xalq naqqoshlari va yogʻoch oʻymakor ustalari O. Polvonov, R. Masharipov, S. Bogʻbekov, mashhur kulol, koshinkor usta R. Matchonov va boshqalarning nomlari mashhur.\\n\\nSogʻliqni saqlash \\nViloyatda 6269 oʻrinli 36 kasalxona va 211 tibbiy muassasalarda 3882 vrach (har 10 ming kishiga 27,1 vrach), 13337 oʻrta tibbiy xodim ishlaydi. Davlat dasturiga asosan, viloyatda Respublika shoshilinch tibbiy yordam markazining viloyat boʻlimi va barcha tuman markaziy kasalxonalari qoshida uning boʻlinmalari tashkil etilgan hamda zaruriy tibbiy va texnik jihozlar bilan taʼminlangan. Xorazm viloyatida 4010 oʻrinli 20 sanatoriy faoliyat koʻrsatadi.\\n\\n2004-yilgacha oʻz kasbi boʻyicha xususiy ish faoliyati yuritish uchun 50 ga yaqin mutaxassisga litsenziya berildi.\\n\\nSport \\nXorazm viloyati sportchilari sportning koʻplab turlari boʻyicha turli darajadagi musobaqalarda ishtirok etmoqda (kurash, futbol, gandbol, voleybol, tennis, boks va boshqalar). „Umid nihollari\\xa0— 2003“ sport musobaqalari oʻtkazilishi munosabati bilan shahar va tumanlarda 17 ta yirik sport inshootlari, „Olimpiya zaxiralari“ kolleji, 10- 15 ming kishilik stadion foydalanishga topshirildi.\\n\\nViloyatda 14 sport majmuasi, shuningdek, 16 stadion, 8 suzish havzasi, 136 tennis korti, otchopar, sport zallari, otish tiri, basketbol, gandbol, futbol maydonlari bor. 389 ming kishi jismoniy tarbiya va sport bilan shugʻullanadi. Turli miqyosdagi respublika va xalqaro sport musobaqalarida viloyatning 9 sportchisi oltin, 8 tasi kumush medallarga sazovor boʻlishdi. Xorazmda „Umid nihollari-2003“ tadbiri katta bayram sifatida nishonlandi. „Umid nihollari“, „Prezident kubogi uchun“, Pahlavon Mahmud xotirasiga bagʻishlab oʻtkazilgan respublika va xalqaro sport bellashuvlarida 6 sportchi respublika va jahon chempioni unvonlarini oldilar.\\n\\nXorazm viloyatida 10 dan ortiq xalqaro toifadagi sport ustasi, 100 dan ortiq sport ustasi, 300 dan ziyod sport ustaligiga nomzod, shuningdek, koʻplab 1-toifadagi sportchi tayyorlandi. Viloyatning 30 dan ortiq sportchisi Oʻzbekistonning turli milliy terma jamoalari aʼzolaridir.\\n\\nAdabiyoti \\nXorazm adabiyoti zamonlar silsilasida yemirilib, yoʻqotilib, qayta shakllandi. Arablar Xorazmga bostirib kelganda oʻzlariga qaraganda juda ham yuqori madaniyatga duch keldilar. VIII asrga kelib qadimgi xorazmiy tilining batamom yoʻqotilishi bilan VIII asrdan toki XII-XIII asrlargacha fors hamda arab va XII asrlardan boshlab turk oʻzbek tillarida ijod qilindi. Abu Mansur Saolibiyning „Yatimat addaxr fi maxosin axlal asr“ („Asr ahlining fozillari haqida zamonasining durdonasi“) tazkirasida X-XI asrlarda Xorazmda yashab, arab tilida ijod etgan yetuk arabnavislar haqida keng maʼlumot beriladi. Qariyb 5 asr davomida (VIII-XII asrlar) arab tilida ijod qilgan koʻpgina Xorazm shoirlari oʻz faoliyati bilan Xuroson va Movarounnahrda shuhrat qozonganlar. XI asr boshida Xorazmda ilk bor tashkil etilgan Xorazm Maʼmun akademiyasida jahon tarixi, fani va adabiyotiga munosib ulush qoʻshgan Beruniy raisligida Ibn Sino, Abu Nasr Iroq kabi zamonasining yirik fan va madaniyat namoyandalari ijod qildilar. Asli balxlik boʻlib, Xorazmda turgʻun yashab Xorazmshoh Otsiz hukmronligi davrida yuqori martabaga ega boʻlgan Rashididdin Vatvot („Saʼd al-mulk“ faxriy unvonini olgan) fors va arab tillarida ijod qilib sheʼriyatda murassaʼ, tarseʼ, tajnis va boshqa usullarni qoʻllashda fors tilida yozadigan peshqadam shoirlardan biri hisoblanadi. Ahmad Yassaviyning shogirdi Sulaymon Boqirgʻoniy XII asrdayoq turkiyda ijod qilgan. Bu davrlarda arab, fors tillari va turkiyda baravariga ijod qilingani oʻsha davr adabiy muhitining naqadar koʻp qirraligini koʻrsatadi. Xorazmdagi adabiy jarayon Chingizxon istilosi va undan keyingi davrda ancha murakkab kechgan boʻlsa-da, toʻxtab qolmadi. Kubroviylik tariqatining asoschisi, „Shayxi valitarosh“ („Avliyolar yetishtiruvchi shayx“) nomi bilan butun Sharqqa mashhur boʻlgan shoir Najmiddin Kubro, „Muhabbatnoma“ muallifi Xorazmiy (XIV asr), Nasriddin Burhoniddin Rabgʻuziy (XIII asr oxiri\\xa0— XIV asr boshlari), Pahlavon Mahmud, Haydar Xorazmiy, Qutb Xorazmiy, Sayfi Saroyi (XIV asr) kabi buyuk siymolar ijod etgan. Rabgʻuziyning „Qissasi Rabgʻuziy“ asari oʻzbek nasrining mukammal namunasi boʻlishi bilan eʼtiborlidir. Xorazm adabiy muhiti, ilm-fani jahon maʼrifati taraqqiyotiga taʼsiri eʼtirofga loyiq. Az-Zamaxshariy arab dunyosini kezib ilm tarqatgan boʻlsa, 1414-yilda Sherozga kelgan Abdurahim Hofiz Xorazmiy turkiyda bitgan gʻazallari bilan shuhrat topgan.\\n\\nAlisher Navoiy „Majolis un-nafois“ asarida Xoja Abulvafoyi Xorazmiy va Mavlono Jaloliddin Rumiy masnaviysiga sharh bitgan Husayn Xorazmiylarni katta hurmat bilan taʼriflaydi. Xorazm adabiy jarayonining rivojlanishi natijasida yetuk adabiyot namoyandalari yetishib chiqa boshladi. Bular Ravnaq (1725-1805), Roqim (1742-1825), Nasimiyning gʻazallarini oʻzbek tiliga agʻdargan mashhur shoir Andalib (1710-70), Vosifiyning „Badoye ul-vaqoyeʼ“ asarini forsiydan tarjima qilgan, oʻzbek va fors tillarida baravar ijod etgan Dilovarxoʻja (XVIII asr), Navoiyning „Xamsa“sidagi dostonlarning nasriy variantlarini yaratgan Umar Boqiy (XVIII asr), oʻz zamonasining ulugʻ shoirlari Munis, Ogahiy, Komil Xorazmiy (1825-1899), Bayoniy va boshqalardir.\\n\\nFeruz davrida Xorazm adabiy muhiti yanada rivojlandi. Uning buyrugʻi bilan shoir Tabibiy „Majmuai 30 shuaro payravi Feruz“ tazkirasini tuzadi va Feruzning 101 gʻazaliga 30 shoir yozgan payravni kiritadi. Tazkiranavis Laffasiy tuzgan „Tazkirai shuaro“da (1945) Munis davridan Laffasiy davrigacha ijod qilgan (Munis va Laffasiy bilan birga) Xorazmdagi 51 shoirning hayoti va ijodi haqidagi maʼlumotlar bitilgan.\\n\\nXorazmda qadimdan dostonchilik rivojlangan. Xalq anʼanaviy dostonlari baxshilar orqali ogʻizdanogʻizga oʻtib sayqallangan. „Avazxon“, „Bozirgon“, „Sayyodxon va Hamro“, „Qorakoʻz Oyim“, „Gulruh pari“, „Shobaxrom“, „Zavriyo“, „Oshiq Gʻarib va Shohsanam“, „Yusuf Ahmad“ kabi dostonlar Xorazm xalq ogʻzaki ijodining nodir boyligidir. Xorazm xalq dostonlari hajmi boshqa oʻzbek xalq dostonlariga qaraganda kichikligi, shu bilan birga musiqaviyligi bilan ajralib turadi. Xorazmda doston kuylovchilarni baxshi deb atab kelganlar. Xorazm vohasida XIX asrning 1-yarmida Eshvoy baxshi mashhur boʻlgan. Xorazm vohasida muallif nomi bilan atalgan „Eshvoy nagʻmasi“ kuyi tarqalgan. XIX asrda Xorazmda yashab ijod qilgan baxshilardan Otash, Gʻaribniyoz baxshilar, Bobo baxshi, Jumanazar baxshi Bobo baxshi oʻgʻli, Bekjon baxshi, Abdrim baxshi va boshqa shuhrat qozongan. XX asr boshlarida Xoʻjayoz baxshi atoqli baxshi hisoblangan. U „Oshiq Gʻarib va Shohsanam“, „Sayyodxon va Hamro“, „Bozirgon“, „Alpomish“ va „Goʻroʻgʻli“ turkumidagi dostonlarni yod bilgan va uni xush ovoz bilan dutor joʻrligida ijro etgan. Undan keyingi davrda Bola baxshi, Matnazar Jabbor oʻgʻli, Qalandar baxshi, Bola baxshining farzandlari Norbek baxshi, Matyoqub va Yetmishboy baxshilar Xorazm dostonchilik maktabini taraqqiy qilishga hissa qoʻshdilar.\\n\\nXorazmdagi xalq ogʻzaki ijodining yana bir turi xalfachilikdir. Xalfalar (folklorda) repertuarida xalq dostonlari, rang-barang xalq qoʻshiqlari, mumtoz shoirlarning ashulabop gʻazallari asosiy oʻrin olgan. XIX-XX asrning 2-yarmida Xorazmda Xonimjon xalfa, Onajon xalfa, Onabibi kori (Ojiza), Shukurjon xalfa, Sharifa xalfa, Joni xalfa, Bibijon xalfa, Durxonim xalfa, Kish xalfa, Guljon kori, Oysha kulol xalfa, Yoqut xalfa Vafoyeva, Sharifa noʻgʻay Otasheva, Ugʻil Noʻgʻay Quryozova, Yoqut xalfa Seytniyazova va boshqalarning nomlari xalq orasida tanilgan edi. Xalfachilik sanʼati anʼanalari Xorazm yosh ijrochilari tomonidan keyingi davrlarda ham davom ettirilmoqda.\\n\\nXX asrda Xorazm adabiyotshunosligida Mugʻanniy, Suhanvar, Umar Qurboniy, Qalandar Qurboniy, M. Abdullayev, Egam Rahim, Ahmad Bobojon, Ayyomiy, Rahim Bekniyoz, Doʻstjon Matjon va boshqalarning nazm va nasriy asarlarida maʼrifatchilik gʻoyalari oʻz aksini topgan.\\n\\nOmon Matjon, Bahrom Roʻzimuhammadning falsafiy sheʼriyati, Erkin Samandarning „Daryosini yoʻqotgan qirgʻoq“, „Tangri qudugʻi“, Komil Avazning „Qoʻnalgʻa“ romanlari, Matnazar Abdulhakimning Najmiddin Kubro, Bedil, Pahlavon Mahmud ruboiyoti va gʻazallarining oʻzbek tiliga tarjimalari muhim ahamiyatga ega. Professorlardan O. Madrahimov, S. Roʻzimboyev, Z. Doʻsimov, J. Yusupov, arab va fors tillari bilimdoni A. Ahmedov va boshqa adabiyotshunoslikka doir asarlar yozdilar. Ayniqsa, bu borada H. Abdullayevning Abu Bakr Xorazmiydan hozirgacha yashab ijod qilgan adabiyot ahlining hayoti va ijodini aks etttirguvchi tazkirasi, N. Krbulovning 2 jildli „Xorazm adabiy muhiti“ asari, S. Roʻzimboyevning „Goʻroʻgʻli“ kitobi muhim ahamiyatga ega boʻldi.\\n\\nXorazm viloyatida Oʻzbekiston ijodiy uyushmalari (yozuvchilari, rassomlar va boshqalar) viloyat tashkilotlari faoliyat koʻrsatmoqda.\\n\\nMatbuot, radioeshittirishi va televideniyesi \\nXorazm viloyatida 2 viloyat gazeta („Xorazm haqiqati“ va „Xorezmskaya pravda“, 2 ta gazeta adadi 5500), 10 tuman gazeta, 3 jurnal („Ilm sarchashmalari“, „Diydor“, „Xiva-Sharq gavhari“, adadi 2000) nashr etiladi. Viloyatda, shuningdek, bir qancha tarmoq gazetalari chop qilinadi. Jami 27 nomdagi gazeta va jurnallar chiqariladi.\\n\\nXorazm (Xiva)da Muhammad Rahimxon Feruz tashabbusi bilan 1874-yilda Turkistonda ilk bor toshbosma ochilgan. Toshbosmada ilk matbaachilik faoliyatini birinchi oʻzbek matbaachisi Otajon Abdalov boshlagan. Ushbu toshbosma faoliyati keyinroq, 1920-yildan „Inqilob quyoshi“ gazetasi, 1939-yildan „Xorazm haqiqati“, 1941-yildan „Xorezmskaya pravda“ gazetalarining tashkil qilinishiga zamin yaratgan.\\n\\nXorazm viloyatida 1874—1924-yillarda faoliyat koʻrsatgan matbaachilik anʼanalari 1991-yilda qayta tiklandi. „Xorazm“ nashriyoti ishga tushirilib, darsliklar, kitoblar nashr etish yoʻlga qoʻyildi. „Xorazm tarixi“ (1995), „Hazorasp tarixi“, „Xonqa tarixi“ (1995-1998), „Avestoning yaratilishi“ (2001), „Maʼmun akademiyasi“ (toʻplam, 2003) kabi kitoblar chop etildi.\\n\\nXorazm viloyatida birinchi radioeshittirishlar 1936-yildan boshlangan. Viloyat radiosi oyiga 31 soatlik hajmda eshittirishlar beradi. Telekoʻrsatuvlar 1961-yildan olib boriladi. Mahalliy koʻrsatuvlar, 1979-yildan rangli tasvirda (oʻzbek va rus tillarida), haftasiga 15 soat hajmda namoyish qilinadi.\\n\\nMeʼmoriy yodgorliklari \\nXorazm viloyatidagi tarixiy va meʼmoriy yodgorliklar jahonga mashhur. Viloyatda 149 meʼmoriy va shaharsozlik, 16 arxeologik, 21 monumental sanʼat va haykaltaroshlik yodgorligi bor. Meʼmoriy yodgorliklarning asosiy qismi Xiva shahrida joylashgan. Uning Ichan qalʼa qismi esa UNESCOning Jahon merosi qoʻmitasi hisobiga kiritilgan. Xivadagi yodgorliklardan Juma masjid (X-XVIII asrlar), Pahlavon Mahmud meʼmoriy majmuasi (XIV asr, XIX-XX asr boshlari), Said Alouddin (XIV-XVIII asrlar), Uch Avliyo (1549, 1821) maqbaralari, Toshhovli (XIX asr), Koʻhna Ark (XVII-XIX asrlar) saroylari, Muhammad Aminxon madrasa va minorasi va boshqa mehmonlar va sayohatchilar diqqatini oʻziga tortadi. Shuningdek, Xiva, Hazorasp, Xonqa, Shovot, Yangiariq, Qoʻshkoʻpir, Bogʻot va boshqa tumanlarida ham tarixiy obidalar mavjud. Shulardan Xiva tumanidagi Chodra hovli (XVIII-XIXasrlar), Shohimardon meʼmoriy majmuasi (XIX asr), Qubla tozabogʻ saroyi (1893-1913), Hazoraspdagi Muzrobshoh (XVI-XVIII asrlar), Shayx Qosim eshon maqbaralari (XVIII-XIX asrlar), qadimgi Hazorasp qalʼasi (mil. av. VI-V asrlar), Xonqa tumanidagi Said ota masjidi (1766), Shovot tumanidagi Vayangan bobo maqbarasi (XVI-XIX asrlar); Yangiariq tumanidagi Shayx Muxtor Valiy meʼmoriy majmuasi (Ostonabobo, XIV asr) ; Qoʻshkoʻpir tumanidagi Imorat bobo meʼmoriy majmuasi (XVI-XIX asrlar) va boshqalarni aytish mumkin.\\n\\nMustaqillik yillarida viloyatda yakka tartibda uy-joy qurish tez rivojlandi. Urganch, Xiva shaharlarlariga yoʻldosh Navroʻz, Qosmaobod shaharchalari bunyod etildi. Viloyatda tarixiy va meʼmoriy yodgorliklarni asrash, taʼmirlash ishlariga Oʻzbekiston hukumati tomonidan katta eʼtibor berilmoqda. Xiva shahrining 2500 yillik yubileyi (1997), Jaloliddin Manguberdining 800 yiligi (1999), Avesto kitobi yaratilishining 2700 yilligi (2001) bayramlari arafasida viloyatda keng miqyosda meʼmoriy yodgorliklarni taʼmirlash, ular atroflarini obodonlashtirish va koʻkalamzorlashtirish ishlari amalga oshirildi. Xorazm viloyati 2003-yil 22-avgustda Jaloliddin Manguberdi ordeni bilan mukofotlangan.\\n\\nAdabiyotlar \\n\\n Tolstov S. P., Qadimgi Xorazm madaniyatini izlab, T., 1964; \\n Vinogradov A. V., Neoliticheskiye pamyatniki Xorezma, M., 1968; \\n Srednyaya Aziya v drevnosti i srednevekovye, M., 1977; \\n Trudi Xorezmskoy arxeologoetnograficheskoy ekspeditsii, t. 1-10, M., 1952-77; \\n Xorazm tarixi, 1995, Urganch; Qilichev T., Xorazm xalq teatri, T.; \\n Sadokov R. L., Muzikalnaya kultura drevnego Xorezma, M., 1970; \\n Sadokov R. L., Tisyacha oskolkov zolotogo saza, M., 1971.\\n Xorazm.uz\\n\\nManbalar \\n\\nXorazm\\nXorazm viloyati\\nOʻzbekiston viloyatlari'}\n",
      "Test dataset example: {'id': 1807, 'url': 'https://uz.wikipedia.org/wiki/Abdulhamid%20Cho%CA%BBlpon', 'title': 'Abdulhamid Choʻlpon', 'text': 'Choʻlpon (asl ism-sharifi Abdulhamid Sulaymon oʻgʻli Yunusov; 1897-yil, Andijon\\xa0— 1938.4.10, Toshkent)\\xa0— shoir, yozuvchi, dramaturg , tarjimon, tanqidchi va jamoat arbobi. Dastlab, madrasada (1908-1912), soʻngra rus-tuzem maktabida (1912-1914) oʻqigan. Sharq mumtoz shoirlari asarlarini mutolaa qilish va jadid matbuotini kuzatish yoʻli bilan adabiy, ijtimoiy-siyosiy bilimini oshirgan.\\n\\n1914-yil Toshkentga kelib, „Sadoi Turkiston“ gazetasi bilan hamkorlik qilgan. „Yangi Sharq“, „Ishtirokiyun“ (1920-yildan „Qizil bayroq“, 1922-yildan „Turkiston“) gazetasida adabiy xodim (1919-1923), Xalq maorif komissarligi qoshidagi Ilmiy kengash (1921-yildan Oʻlka oʻzbek bilim hayʼati, 1922-yildan Ilmiy hayʼat)da rais (1920-1923), „Buxoro axboroti“ gazetasida muharrir (1921-1922), „Turon“ teatrida direktor (1921; 1922-1923), „Mushtum“ jurnali va „Darxon“ gazetasida texnik muharrir, adabiy xodim (1922-1923), Oʻzbek drama studiyasi (Moskva, 1924-1927) va Oʻzbek davlat drama teatrida adabiy emakdosh (1927-1931), SSSR XKS va Sharq xalqlari markaziy nashriyotida tarjimon (Moskva, 1931-1934), „Mushtum“ va „Guliston“ jurnallari hamda „Teatru“ gazetasida adabiy xodim (jamoatchilik asosida, 1935-1937).\\n1938-yilda 4-oktabrda Boysuz boʻyida qatl qilinadi.\\n\\nIjodi \\nAdabiy ijodi 1913-1914-yillarda Andijonning ijtimoiy va madaniy hayoti haqida xabarlar yozish bilan boshlangan. 1914-yil Toshkentda Munavvar Qori Abdurashidxonov va Ubaydulla Xoʻjayev bilan tanishish Choʻlponning milliy uygʻonish harakati namoyandasi sifatida shakllanishida muhim omil boʻlgan. Choʻlpon „Sadoi Turkiston“ gazetasida dastlabki „Turkistonli qardoshlarimizga“ sheʼri, „Qurboni jaholat“, „Doʻxtir Muhammadyor“ hikoyalari va „Adabiyot nadir?“ maqolasini eʼlon qilib (1914), shu davr adabiyoti namoyandalari safidan oʻrin egallagan. Turkiston aholisining iqtisodiy, ijtimoiy va madaniy qoloqlik sharoitida yashayotganining asosiy sababini Rossiyaning mustamlakachilik siyosatida koʻrgan Choʻlpon  boshqa jadidlar qatori, oʻz asarlari bilan xalqning madaniy va maʼrifiy saviyasini koʻtarishga kirishgan.\\n\\n1917-yil Fevral inqilobining roʻy berishi taraqqiyparvar ziyolilar dunyoqarashini oʻzgartirib yubordi. Ular, shu jumladan, Choʻlpon mustaqillik uchun kurash endi targʻibiy-tashviqiy davridan amaliy faoliyat bosqichiga oʻtganini angladilar. Choʻlpon Turkiston muxtoriyati hukumatining barpo etilishida faol ishtirok etib, muxtoriyatni sharaflovchi „Ozod turk bayrami“ sheʼrini yozdi va bu sheʼr oʻzbek davlatchiligi tarixida ilk madhiya boʻldi. Shu davrda Turkistondagi koʻp millatli ziyolilar oʻrtasida federalizm gʻoyasi keng tarqalgani sababli Choʻlpon ayni paytda Z.Validiy bilan birga Orenburgga borib, Boshqirdiston muxtoriyat hukumatining tashkil etilishida ham ishtirok etdi. Federalistlarning fikrlariga koʻra, Turkiston va Volga boʻyidagi turkiy xalqlar oʻz muxtoriyat hukumatlarini barpo etganlaridagina bu hukumatlarning bolsheviklar tomonidan tan olinishi va birgalikda himoyalanishi mumkin edi.\\n\\nMuxtoriyat tugatilgach, Choʻlpon „Ilmiy kengash“, „Chigʻatoy gurungi“, „Nashri maorif“ tashkilotlari va \"Turon\" teatrida adabiy, ilmiy-maʼrifiy ishlar bilan mashgʻul boʻldi. Ayni paytda shoʻro davlatining mustamlakachilik siyosati oqibatlarini fosh etuvchi sheʼr va maqolalar yozish bilan istiqlol uchun kurashda davom etdi. Ammo respublika madaniyat xodimlarining 2-qurultoyi 1927-yildan keyin Choʻlponga qarshi boshlangan kurash uni siyosiy faoliyatdan uzoqlashishga, hatto 1931-1935-yillarda Moskvaga qochib borib, musofirlikda yashashga majbur etdi.\\n\\nVafoti \\nJadidlarga qarshi boshlangan kampaniya Choʻlponni ham chetlab oʻtmaydi. Taʼqib va tazyiqlarga qaramay, u qizgʻin ijodiy faoliyat bilan shugʻullanadi. 30-yillarning boshida yana Moskvaga ketgan va SSSR Markaziy Ijroiya Komitetida tarjimon boʻlib ishlagan. Choʻlpon 1937-yil 14-iyulda qamoqqa olinadi va 1938-yil 4-oktabrda Toshkentda Boʻzsuv boʻyida qatl etiladi.\\n\\nAdabiy merosi \\nChoʻlponning adabiy merosi sheʼriyat, nasr, dramaturgiya, publitsistik va adabiy tanqidiy maqolalar hamda tarjimadan iborat.\\n\\nSheʼriy asarlari \\nChoʻlponning sheʼriy asarlari „Oʻzbek yosh shoirlari“, „Uygʻonish“ (1922), „Buloqlar“ (1923), „Tong sirlari“ (1926) va „Soz“ (1935) toʻplamlarida, shuningdek, turli gazeta va jurnallarda eʼlon qilishgan. Ular gʻoyaviy-tematik yoʻnalishiga koʻra 2 guruhga ajraladi: sof lirika va ijtimoiy-siyosiy lirika. Ishqiy kechinma va tabiat manzaralari tasvirlangan sheʼrlarida Choʻlpon jahon lirik sheʼriyatining mumtoz vakillari darajasiga koʻtarilgan. Sheʼrlari lirik qahramonning boy va goʻzal ruhiy olamini, tabiat manzarasini, tabiatda kechayotgan jarayonlarni katta mahorat bilan aks ettirgan. „Goʻzal“, „Sezgi“, „Sirlardan“, „Men shoirmi?“ singari sheʼrlari bilan barmoq vazniga asoslangan yangi oʻzbek sheʼriyatini yuksak taraqqiyot bosqichiga olib chiqdi. Barmoq vazni Choʻlpon va Fitratning ijodiy izlanishlari bilan 20-yillarning boshlaridayoq yangi oʻzbek sheʼriyatining asosiy vazniga aylandi.\\n\\nTarixiy davr va tarixiy sharoit Choʻlpondan muhabbat va tabiat lirikasidan koʻra shu davrdagi oʻzbek xalqining ijtimoi-ysiyosiy, iqtisodiy va madaniy ahvolini yaxshilashga qaratilgan asarlar yozishni taqozo etdi. Vatan va millat manfaati bilan yashagan shoir davrning shu talabi bilan bolsheviklar olib borgan siyosatning mustamlakachilik mohiyatini fosh etishga, xalqni zulm va zoʻravonlikka qarshi hurriyat uchun kurashga daʼvat etishga qaratilgan sheʼrlar yozdi („Buzilgan oʻlkaga“, „Xalq“, „Vijdon erki“, „Kishan“ va boshqalar). Choʻlpon bu sheʼrlari bilan adabiyotning kurash quroliga aylanishi mumkinligini isbotlab berdi. Shoirning yurak qoni bilan yozilgan bu sheʼrlari vatandoshlarida oʻzbek diyoriga otashin muhabbat, mustamlakachilarga nafrat, erk va hurriyat gʻoyalariga sadoqat tuygʻularini tarbiyaladi. Agar Choʻlponning „koʻngil lirikasi“ anʼanalari keyinchalik Oybek, Hamid Olimjon, Mirtemir, Zulfiya, Erkin Vohidov, Abdulla Oripov, Rauf Parfi va boshqalar ijodida muvaffaqiyat bilan rivojlantirilgan boʻlsa, uning ijtimoiy mazmun bilan yoʻgʻrilgan sheʼriyati anʼanalari keyinchalik davom ettirilmay qoldi.\\n\\nHikoyalari \\nChoʻlpon isteʼdodiga xos lirik nazokat va nafosat shoir nasriy asarlarining ham oʻziga xosligini belgilab keladi. Choʻlpon qaysi mavzuga murojaat etmasin, badiiy voqelikni poetik til va obrazlar orqali mujassamlantirishga erishdi. Shu maʼnoda uning 20-yillarda yozgan „Oydin kechalarda“, „Qor qoʻynida lola“, „Novvoy qiz“ singari hikoyalari oʻzbek adabiyotidagi lirik nasrning dastlabki mumtoz namunalaridir. Choʻlpon bu hikoyalarida oʻzbek xotinqizlarining ayanchli taqdirini turli badiiy rejada tadqiq etar ekan, har bir jamiyatning taraqqiyot darajasi shu jamiyatning xotin-qizlarga boʻlgan munosabati bilan belgilanadi, degan gʻoyani bu asarlar osha „qizil ip“ yangligʻ oʻtkazgan. Umuman, oʻzbek xotin-qizlarining mustamlakachilik sharoitidagi taqdiri tasviri Choʻlpon sheʼriy ijodining ham, kichik epik asarlarining ham, „Kecha va kunduz“ (1936) romanining ham asosiy gʻoyaviy yoʻnalishini belgilab bergan.\\n\\nNasriy ijodi \\nChoʻlpon nasriy ijodining muhim qismini publitsistika tashkil etadi. U „Yoʻl esdaligi“, „Vayronalar orasidan“ kabi qator ocherk va publitsistik maqolalarida 20-yillardagi mustamlaka oʻlka hayotining mudhish manzaralarini tasvirlagan. Choʻlpon bu asarlarida realistik tasvir sanʼatini mukammal egallagan yozuvchi sifatida gavdalanadi. Choʻlpon yozuvchilik mahoratining shunday qirralari „Kecha va kunduz“ romanida, ayniqsa, yorqinroq aks etgan. Choʻlpon Abdulla Qodiriy bilan birga oʻzbek adabiyotida realistik roman va hikoya janrlarining taraqqiyot tamoyillarini belgilab berdi.\\n\\nSahna asarlari \\nChoʻlponning dramaturgiya sohasidagi dastlabki izlanishlari 1919-yilga oid. U shu yili „Temirchi“, „Gunoh“, „Choʻrining isyoni“ singari kichik sahna asarlarini yozdi. 20-yillarning boshlarida esa Choʻlponning „Yorqinoy“, „Xalil farang“, Oʻldiruvchi (1921), „Sevgi va saltanat“, „Choʻpon sevgisi“ (1922) pyesalari maydonga keldi (bu asarlarning aksari bizgacha yetib kelmagan).\\n\\nTarjimonlik sohasidagi faoliyati \\nChoʻlpon „Turon“ teatriga direktorlik qilgan yillarida sahna sanʼati va dramaturgiya sirlarini, shuningdek, rus tilini puxta egallagani tufayli 1924-yil Moskvada tashkil etilgan oʻzbek drama studiyasiga adabiy emakdosh etib yuborildi. U hali rus tilini bilmagan vatandoshlariga moskvalik mashhur artist va rejissorlarning maʼruzalarini tarjima qilib berishdan tashqari, oʻzi ham studiyachilar uchun sahna asarlari („Yorqinoy“, „Yana uylanaman“, „Qorovul uyqusi“, Lev Sverdlin bilan hamkorlikda), „Uzun quloq bobo“ni yozib, rus va yevropa dramaturglarining pyesalari (K.Gotssi, „Malikai Turondot“, Nikolay Gogol, „Tergovchi“, Vladimir Bill Belotserkovskiy, „Labbay“, Molyer, „Xasis“)ni tarjima qilib berdi.\\n\\nChoʻlpon 1927-yilda Moskva va Boku drama studiyalari qatnashchilari bazasida Oʻzbek davlat namuna truppasi (1929-yildan Oʻzbek davlat teatri) tashkil etilgach, mazkur truppa (teatr) ning adabiy emakdoshi sifatida faoliyat olib bordi. Shu davrda uning kishilar va jamiyat hayotidagi nuqsonlarni hajv etuvchi „Mushtumzoʻr“, „Hujum“ (V.Yan bilan hamkorlikda, 1928), „Oʻrtoq Qarshiboyev“ (1929) kabi pyesalari sahna yuzini koʻrdi. Choʻlpon ayni paytda teatr tarjimoni sifatida ham samarali ijod qilib, K.Goldonining „Ikki boyga bir qarol“, Lope de Veganing „Qoʻzi buloq“, William Shekspirning „Hamlet“, F.Shillerning „Bosmachilar“, Bill Belotserkovskiyning „Poʻrtana“, S.Levitinaning „Hukm“, A.Faykoning „Portfelli kishi“, V.Tretʼyakovning „Naʼrangni tort, Xitoy!“, Vs. Ivanovning „14–69 raqamli zirhli poyezd“ pyesalarini oʻzbek tiliga oʻgirdi. Choʻlpon adabiy emakdosh, dramaturg va tarjimon sifatida Uygʻur bilan birga professional oʻzbek teatriga tamal toshini qoʻydi.\\n\\nMaqolalari \\nChoʻlponning adabiyot va sanʼat masalalariga bagʻishlangan faoliyati kichik-kichik maqolalardan iborat boʻlsada, ularning ayrimlari dasturiy ahamiyatga ega. Choʻlpon 1914-1915-yillarda yozgan „Adabiyot nadir?“ va „Muhtaram yozuvchilarimizga“ maqolalari bilan adabiyot va sanʼatning xalq va jamiyat oldidagi vazifasini, tarbiyaviy-maʼrifiy ahamiyatini aniq belgilab berdi. U oʻzbek va xorijiy xalqlar adabiyoti namoyandalari („Marhum Tavfiq Fitrat“, „Ikki yuqotish“, „Rizo Tavfiqbek“, „Tagor va tagorshunoslik“, „Ulugʻ hindi“, „Joʻrj Dandon“, „Katta maktab egasi“, „Uvaysiy“, „Ustodning xislatlari“), teatr va musiqa sanʼati („Abo Muslim“, „Iblis“, „Shayx Sanʼon“, „Oydin“, „Malikai Turondot“, „Meyerxold teatri“, „Tursunoy sahnada“, „Ashulaga ishkiboz“, „Qiziqlar“, „Otabola sanʼatkor“, „Bazmcholgʻu toʻdasi“, „Ukraina bandurachilari“), til („Shohnoma“ning turkcha tarjimasi\", „Tilimizning ishlanishi“) va tarjima („Tarjima toʻgʻrisida jindak“, „Soʻz, soʻz, suz“) masalalariga bagʻishlangan maqolalari bilan 20-yillarda adabiy tanqid, sanʼatshunoslik, tilshunoslik va tarjimashunoslik sohalarining paydo boʻlishi va shakllanishiga katta hissa qoʻshdi.\\n\\nTarjima asarlari \\nChoʻlpon adabiy merosining salmoqli qismini tarjima asarlar tashkil etadi. U Moskvada yashagan yillarida moddiy ehtiyoj orqasida koʻpgina oʻtkinchi asarlarni tarjima qilishga majbur boʻldi. Lekin shu bilan birga Choʻlpon Aleksandr Pushkin („Boris Godunov“, „Dubrovskiy“), Nikolay Gogol („Tergovchi“), I.\\xa0S.\\xa0Turgenev („Choʻri qiz“), I.Franko („Million“, „Feruza“), L.Andreyev („Gubernator“, „Osilgan yetti kishining hikoyasi“), A.\\xa0P.\\xa0Chexov („Qochoq“), A.\\xa0M.\\xa0Gorkiy („Ilgaklar“, „Ona“) singari rus va boshqa xalqlar adabiyotining mumtoz asarlarini ham katta mahorat bilan tarjima qilib, zamonaviy milliy tarjima maktabiga asos soldi. Choʻlpon tarjimasidagi William Shekspirning „Hamlet“ tragediyasi oʻzbek tarjima sanʼatining shoh namunasidir.\\n\\nChoʻlpon shoʻro davlatining doimiy tazyiqi va nazorati ostida yashagani sababli uning koʻplab qoʻlyozmalari oʻgʻirlandi. U 1937-yilda „xalq dushmani“ sifatida ayblanib, qamoqqa olinishi arafasida va keyin ham barcha qoʻlyozma asarlari kuydirib tashlandi. Shunga qaramay, Choʻlpondan bizga qadar yetib kelgan 10 jild hajmdagi original va tarjima asarlar oʻzbek xalqining katta madaniy va maʼnaviy boyligidir.\\n\\nXotira \\nOʻzbekiston mustaqil respublika deb eʼlon qilingach, Choʻlponning oʻzbek madaniyatini rivojlantirish va xalq ommasini istiqlol gʻoyalariga sadoqat ruhida tarbiyalash ishiga qoʻshgan hissasi yuksak baholandi. Choʻlponga Alisher Navoiy nomidagi Oʻzbekiston Respublikasi Davlat mukofoti (1991) va „Mustaqillik“ (1999) berildi. 1997-yil Choʻlponning 100 yilligi keng nishonlanib, Andijonda Choʻlpon uy-muzeyi tashkil etildi, Tillar pedagogika instituti va litsey Choʻlpon nomi bilan ataldi. Oʻzbek milliy akademik drama teatrida Choʻlpon xayoti va ijtimoiy faoliyati haqida hikoya qiluvchi „Kunduzsiz kechalar“ (Usmon Azim asari) spektakli sahnalashtirildi. Xotirasini abadiylashtirish uchun ko‘chalar hamda muhim inshootlarga nomi berildi.\\n\\nChoʻlpon dastxati. Goʻzal sanʼatlar. \\nChoʻlponning „Oʻzbek yosh shoirlari“ (1923), „Goʻzal yozgʻichlar“ (1925), „Adabiyot parchalari“ (1926) majmualarida chop etilgan sheʼrlari, oʻz sheʼrlari asosida nashr qilingan „Uygʻonish“ (1922), „Buloqlar“ (1923), „Tong sirlari“ (1926), „Soz“ (1935) kabi toʻplamlari yangi oʻzbek sheʼiyati taraqqiyotida muhim oʻrin tutadi.\\n\\nUning „Kecha va kunduz“ (1936) romani, „Doʻxtur Muhammadyor“ (1914), „Qor qoʻynida lola“, „Novvoy qiz“, „Oydin kechalarda“ hikoyalari yangi davr oʻzbek nasri rivojiga salmoqli hissa boʻlib qoʻshildi.\\n\\nChoʻlponning „Yorqinoy“ (1920), „Xalil farang“ (1921), „Choʻrining isyoni“ (1926), „Yana uylanaman“ (1926), „Mushtumzoʻr“ (1928), „Oʻrtoq Qarshiboev“ (1928), „Hujum“ (1928) kabi dramalari uning dramaturg sifatida ham samarali ijod qilganligini koʻrsatadi.\\n\\nMilliy istiqlol va ozodlik gʻoyalari Choʻlpon ijodining leytmotivini belgilaydi. Choʻlpon Pushkinning „Dubrovskiy“, „Boris Godunov“ asarlarini, Gorkiyning „Ona“ romani va „Egor Bulichev“ peʼsasini, Lohutiyning „Evropa safari“ni, Gotsiyning „Malikai Turandot“, Shekspirning „Hamlet“ dramalarini oʻzbek tiliga tarjima qilish orqali oʻzbek va jahon adabiy aloqalari rivojiga munosib hissa qoʻshdi.\\n\\nChoʻlpon ijodi bilan OʻzMU professorlari O. Sharofiddinov, U. Normatov, N. Karimov, D. Quronov, B. Doʻstqoraevlar ilmiy tadqiqot ishlarini olib bormoqdalar. Choʻlponga Navoiy nomidagi Davlat mukofoti berildi. Uning „Kecha va kunduz“ romani asosida videofilm yaratilgan.\\n\\nTarjima qilingan asarlari \\nChoʻlponning tanlangan asarlari birinchi marotaba rus tilida 2009-yil Moskvadagi Voskresenye nashriyotida chop etildi. Ushbu toʻplam uning „Kecha va kunduz“ romani, „Yorqinoy“ pesasi va 1915-1938-yillarda yaratilgan bir qator sheʼrlarini oʻz ichiga olgan. Tanlangan asarlar Hamid Ismoilov tomonidan tarjima qilingan.\\n\\nShu yilning oʻzida „Kecha va kunduz“ romanining Stéphane A. Dudoignon tomonidan fransuz tiliga tarjimasi Fransiyada Bleu Autour nashriyotida chop etildi.\\n\\n2008-yil Parijda chop etilgan Oʻzbekiston sheʼriyati antologiyasida („Anthologie de la poésie d’Ouzbékistan“) Choʻlponning bir nechta sheʼrlari fransuz kitobxonlariga havola qilingan. Tarjilonlar Hamid Ismoilov va Jean-Pierre Balpe.\\n\\nNashr qilingan asarlari \\n Abdulhamid Choʻlpon. Kecha. T.: Oʻzdavnashr, 1936.\\n Choʻlpon. Yana oldim sozimni. T.: Adabiyot va sanʼat. 1991.\\n Choʻlpon. Adabiyot nadir. T.: Choʻlpon, 1994.\\n Abdulhamid Choʻlpon. Kecha va kunduz. Birinchi kitob: Kecha. T.: Sharq, 1995 (XX asr oʻzbek romani).\\n Abdulhamid Choʻlpon. Goʻzal Turkiston. T.: Maʼnaviyat, 1997.\\n Choʻlpon. Asarlar. Uch jildlik. T.: Xazina, 1997-1998.\\n Abdulxamid Chulpon. I prozvuchit eщe moy saz, per. s uzbekskogo Xamidom Ismaylovim, Moskva: Voskresene, 2009.\\n Tchulpân. Nuit, fransuz tilida, tarjimon va soʻzboshi muallifi Stéphane A. Dudoignon. Saint-Pourçain-sur-Sioule : Bleu autour, 2009; 464 bet (Collection „d’un lieu l’autre“).\\n\\nAdabiyotlar \\n Sharafiddinov O. Choʻlponni anglash. T.: Xazina, 1994.\\n Karimov N. Choʻlpon. T.: Fan, 1991.\\n Choʻlponning badiiy olami (toʻplam). T.: Fan, 1994.\\n Murodov J.Cholpon haqida. T.: Ohangaron Hayoti Gazetasi, 2014\\n\\nManbalar \\n\\nOʻzbekistonlik yozuvchilar\\nJadidlar', 'prompt': 'Title: Abdulhamid Choʻlpon\\nContent: Choʻlpon (asl ism-sharifi Abdulhamid Sulaymon oʻgʻli Yunusov; 1897-yil, Andijon\\xa0— 1938.4.10, Toshkent)\\xa0— shoir, yozuvchi, dramaturg , tarjimon, tanqidchi va jamoat arbobi. Dastlab, madrasada (1908-1912), soʻngra rus-tuzem maktabida (1912-1914) oʻqigan. Sharq mumtoz shoirlari asarlarini mutolaa qilish va jadid matbuotini kuzatish yoʻli bilan adabiy, ijtimoiy-siyosiy bilimini oshirgan.\\n\\n1914-yil Toshkentga kelib, „Sadoi Turkiston“ gazetasi bilan hamkorlik qilgan. „Yangi Sharq“, „Ishtirokiyun“ (1920-yildan „Qizil bayroq“, 1922-yildan „Turkiston“) gazetasida adabiy xodim (1919-1923), Xalq maorif komissarligi qoshidagi Ilmiy kengash (1921-yildan Oʻlka oʻzbek bilim hayʼati, 1922-yildan Ilmiy hayʼat)da rais (1920-1923), „Buxoro axboroti“ gazetasida muharrir (1921-1922), „Turon“ teatrida direktor (1921; 1922-1923), „Mushtum“ jurnali va „Darxon“ gazetasida texnik muharrir, adabiy xodim (1922-1923), Oʻzbek drama studiyasi (Moskva, 1924-1927) va Oʻzbek davlat drama teatrida adabiy emakdosh (1927-1931), SSSR XKS va Sharq xalqlari markaziy nashriyotida tarjimon (Moskva, 1931-1934), „Mushtum“ va „Guliston“ jurnallari hamda „Teatru“ gazetasida adabiy xodim (jamoatchilik asosida, 1935-1937).\\n1938-yilda 4-oktabrda Boysuz boʻyida qatl qilinadi.\\n\\nIjodi \\nAdabiy ijodi 1913-1914-yillarda Andijonning ijtimoiy va madaniy hayoti haqida xabarlar yozish bilan boshlangan. 1914-yil Toshkentda Munavvar Qori Abdurashidxonov va Ubaydulla Xoʻjayev bilan tanishish Choʻlponning milliy uygʻonish harakati namoyandasi sifatida shakllanishida muhim omil boʻlgan. Choʻlpon „Sadoi Turkiston“ gazetasida dastlabki „Turkistonli qardoshlarimizga“ sheʼri, „Qurboni jaholat“, „Doʻxtir Muhammadyor“ hikoyalari va „Adabiyot nadir?“ maqolasini eʼlon qilib (1914), shu davr adabiyoti namoyandalari safidan oʻrin egallagan. Turkiston aholisining iqtisodiy, ijtimoiy va madaniy qoloqlik sharoitida yashayotganining asosiy sababini Rossiyaning mustamlakachilik siyosatida koʻrgan Choʻlpon  boshqa jadidlar qatori, oʻz asarlari bilan xalqning madaniy va maʼrifiy saviyasini koʻtarishga kirishgan.\\n\\n1917-yil Fevral inqilobining roʻy berishi taraqqiyparvar ziyolilar dunyoqarashini oʻzgartirib yubordi. Ular, shu jumladan, Choʻlpon mustaqillik uchun kurash endi targʻibiy-tashviqiy davridan amaliy faoliyat bosqichiga oʻtganini angladilar. Choʻlpon Turkiston muxtoriyati hukumatining barpo etilishida faol ishtirok etib, muxtoriyatni sharaflovchi „Ozod turk bayrami“ sheʼrini yozdi va bu sheʼr oʻzbek davlatchiligi tarixida ilk madhiya boʻldi. Shu davrda Turkistondagi koʻp millatli ziyolilar oʻrtasida federalizm gʻoyasi keng tarqalgani sababli Choʻlpon ayni paytda Z.Validiy bilan birga Orenburgga borib, Boshqirdiston muxtoriyat hukumatining tashkil etilishida ham ishtirok etdi. Federalistlarning fikrlariga koʻra, Turkiston va Volga boʻyidagi turkiy xalqlar oʻz muxtoriyat hukumatlarini barpo etganlaridagina bu hukumatlarning bolsheviklar tomonidan tan olinishi va birgalikda himoyalanishi mumkin edi.\\n\\nMuxtoriyat tugatilgach, Choʻlpon „Ilmiy kengash“, „Chigʻatoy gurungi“, „Nashri maorif“ tashkilotlari va \"Turon\" teatrida adabiy, ilmiy-maʼrifiy ishlar bilan mashgʻul boʻldi. Ayni paytda shoʻro davlatining mustamlakachilik siyosati oqibatlarini fosh etuvchi sheʼr va maqolalar yozish bilan istiqlol uchun kurashda davom etdi. Ammo respublika madaniyat xodimlarining 2-qurultoyi 1927-yildan keyin Choʻlponga qarshi boshlangan kurash uni siyosiy faoliyatdan uzoqlashishga, hatto 1931-1935-yillarda Moskvaga qochib borib, musofirlikda yashashga majbur etdi.\\n\\nVafoti \\nJadidlarga qarshi boshlangan kampaniya Choʻlponni ham chetlab oʻtmaydi. Taʼqib va tazyiqlarga qaramay, u qizgʻin ijodiy faoliyat bilan shugʻullanadi. 30-yillarning boshida yana Moskvaga ketgan va SSSR Markaziy Ijroiya Komitetida tarjimon boʻlib ishlagan. Choʻlpon 1937-yil 14-iyulda qamoqqa olinadi va 1938-yil 4-oktabrda Toshkentda Boʻzsuv boʻyida qatl etiladi.\\n\\nAdabiy merosi \\nChoʻlponning adabiy merosi sheʼriyat, nasr, dramaturgiya, publitsistik va adabiy tanqidiy maqolalar hamda tarjimadan iborat.\\n\\nSheʼriy asarlari \\nChoʻlponning sheʼriy asarlari „Oʻzbek yosh shoirlari“, „Uygʻonish“ (1922), „Buloqlar“ (1923), „Tong sirlari“ (1926) va „Soz“ (1935) toʻplamlarida, shuningdek, turli gazeta va jurnallarda eʼlon qilishgan. Ular gʻoyaviy-tematik yoʻnalishiga koʻra 2 guruhga ajraladi: sof lirika va ijtimoiy-siyosiy lirika. Ishqiy kechinma va tabiat manzaralari tasvirlangan sheʼrlarida Choʻlpon jahon lirik sheʼriyatining mumtoz vakillari darajasiga koʻtarilgan. Sheʼrlari lirik qahramonning boy va goʻzal ruhiy olamini, tabiat manzarasini, tabiatda kechayotgan jarayonlarni katta mahorat bilan aks ettirgan. „Goʻzal“, „Sezgi“, „Sirlardan“, „Men shoirmi?“ singari sheʼrlari bilan barmoq vazniga asoslangan yangi oʻzbek sheʼriyatini yuksak taraqqiyot bosqichiga olib chiqdi. Barmoq vazni Choʻlpon va Fitratning ijodiy izlanishlari bilan 20-yillarning boshlaridayoq yangi oʻzbek sheʼriyatining asosiy vazniga aylandi.\\n\\nTarixiy davr va tarixiy sharoit Choʻlpondan muhabbat va tabiat lirikasidan koʻra shu davrdagi oʻzbek xalqining ijtimoi-ysiyosiy, iqtisodiy va madaniy ahvolini yaxshilashga qaratilgan asarlar yozishni taqozo etdi. Vatan va millat manfaati bilan yashagan shoir davrning shu talabi bilan bolsheviklar olib borgan siyosatning mustamlakachilik mohiyatini fosh etishga, xalqni zulm va zoʻravonlikka qarshi hurriyat uchun kurashga daʼvat etishga qaratilgan sheʼrlar yozdi („Buzilgan oʻlkaga“, „Xalq“, „Vijdon erki“, „Kishan“ va boshqalar). Choʻlpon bu sheʼrlari bilan adabiyotning kurash quroliga aylanishi mumkinligini isbotlab berdi. Shoirning yurak qoni bilan yozilgan bu sheʼrlari vatandoshlarida oʻzbek diyoriga otashin muhabbat, mustamlakachilarga nafrat, erk va hurriyat gʻoyalariga sadoqat tuygʻularini tarbiyaladi. Agar Choʻlponning „koʻngil lirikasi“ anʼanalari keyinchalik Oybek, Hamid Olimjon, Mirtemir, Zulfiya, Erkin Vohidov, Abdulla Oripov, Rauf Parfi va boshqalar ijodida muvaffaqiyat bilan rivojlantirilgan boʻlsa, uning ijtimoiy mazmun bilan yoʻgʻrilgan sheʼriyati anʼanalari keyinchalik davom ettirilmay qoldi.\\n\\nHikoyalari \\nChoʻlpon isteʼdodiga xos lirik nazokat va nafosat shoir nasriy asarlarining ham oʻziga xosligini belgilab keladi. Choʻlpon qaysi mavzuga murojaat etmasin, badiiy voqelikni poetik til va obrazlar orqali mujassamlantirishga erishdi. Shu maʼnoda uning 20-yillarda yozgan „Oydin kechalarda“, „Qor qoʻynida lola“, „Novvoy qiz“ singari hikoyalari oʻzbek adabiyotidagi lirik nasrning dastlabki mumtoz namunalaridir. Choʻlpon bu hikoyalarida oʻzbek xotinqizlarining ayanchli taqdirini turli badiiy rejada tadqiq etar ekan, har bir jamiyatning taraqqiyot darajasi shu jamiyatning xotin-qizlarga boʻlgan munosabati bilan belgilanadi, degan gʻoyani bu asarlar osha „qizil ip“ yangligʻ oʻtkazgan. Umuman, oʻzbek xotin-qizlarining mustamlakachilik sharoitidagi taqdiri tasviri Choʻlpon sheʼriy ijodining ham, kichik epik asarlarining ham, „Kecha va kunduz“ (1936) romanining ham asosiy gʻoyaviy yoʻnalishini belgilab bergan.\\n\\nNasriy ijodi \\nChoʻlpon nasriy ijodining muhim qismini publitsistika tashkil etadi. U „Yoʻl esdaligi“, „Vayronalar orasidan“ kabi qator ocherk va publitsistik maqolalarida 20-yillardagi mustamlaka oʻlka hayotining mudhish manzaralarini tasvirlagan. Choʻlpon bu asarlarida realistik tasvir sanʼatini mukammal egallagan yozuvchi sifatida gavdalanadi. Choʻlpon yozuvchilik mahoratining shunday qirralari „Kecha va kunduz“ romanida, ayniqsa, yorqinroq aks etgan. Choʻlpon Abdulla Qodiriy bilan birga oʻzbek adabiyotida realistik roman va hikoya janrlarining taraqqiyot tamoyillarini belgilab berdi.\\n\\nSahna asarlari \\nChoʻlponning dramaturgiya sohasidagi dastlabki izlanishlari 1919-yilga oid. U shu yili „Temirchi“, „Gunoh“, „Choʻrining isyoni“ singari kichik sahna asarlarini yozdi. 20-yillarning boshlarida esa Choʻlponning „Yorqinoy“, „Xalil farang“, Oʻldiruvchi (1921), „Sevgi va saltanat“, „Choʻpon sevgisi“ (1922) pyesalari maydonga keldi (bu asarlarning aksari bizgacha yetib kelmagan).\\n\\nTarjimonlik sohasidagi faoliyati \\nChoʻlpon „Turon“ teatriga direktorlik qilgan yillarida sahna sanʼati va dramaturgiya sirlarini, shuningdek, rus tilini puxta egallagani tufayli 1924-yil Moskvada tashkil etilgan oʻzbek drama studiyasiga adabiy emakdosh etib yuborildi. U hali rus tilini bilmagan vatandoshlariga moskvalik mashhur artist va rejissorlarning maʼruzalarini tarjima qilib berishdan tashqari, oʻzi ham studiyachilar uchun sahna asarlari („Yorqinoy“, „Yana uylanaman“, „Qorovul uyqusi“, Lev Sverdlin bilan hamkorlikda), „Uzun quloq bobo“ni yozib, rus va yevropa dramaturglarining pyesalari (K.Gotssi, „Malikai Turondot“, Nikolay Gogol, „Tergovchi“, Vladimir Bill Belotserkovskiy, „Labbay“, Molyer, „Xasis“)ni tarjima qilib berdi.\\n\\nChoʻlpon 1927-yilda Moskva va Boku drama studiyalari qatnashchilari bazasida Oʻzbek davlat namuna truppasi (1929-yildan Oʻzbek davlat teatri) tashkil etilgach, mazkur truppa (teatr) ning adabiy emakdoshi sifatida faoliyat olib bordi. Shu davrda uning kishilar va jamiyat hayotidagi nuqsonlarni hajv etuvchi „Mushtumzoʻr“, „Hujum“ (V.Yan bilan hamkorlikda, 1928), „Oʻrtoq Qarshiboyev“ (1929) kabi pyesalari sahna yuzini koʻrdi. Choʻlpon ayni paytda teatr tarjimoni sifatida ham samarali ijod qilib, K.Goldonining „Ikki boyga bir qarol“, Lope de Veganing „Qoʻzi buloq“, William Shekspirning „Hamlet“, F.Shillerning „Bosmachilar“, Bill Belotserkovskiyning „Poʻrtana“, S.Levitinaning „Hukm“, A.Faykoning „Portfelli kishi“, V.Tretʼyakovning „Naʼrangni tort, Xitoy!“, Vs. Ivanovning „14–69 raqamli zirhli poyezd“ pyesalarini oʻzbek tiliga oʻgirdi. Choʻlpon adabiy emakdosh, dramaturg va tarjimon sifatida Uygʻur bilan birga professional oʻzbek teatriga tamal toshini qoʻydi.\\n\\nMaqolalari \\nChoʻlponning adabiyot va sanʼat masalalariga bagʻishlangan faoliyati kichik-kichik maqolalardan iborat boʻlsada, ularning ayrimlari dasturiy ahamiyatga ega. Choʻlpon 1914-1915-yillarda yozgan „Adabiyot nadir?“ va „Muhtaram yozuvchilarimizga“ maqolalari bilan adabiyot va sanʼatning xalq va jamiyat oldidagi vazifasini, tarbiyaviy-maʼrifiy ahamiyatini aniq belgilab berdi. U oʻzbek va xorijiy xalqlar adabiyoti namoyandalari („Marhum Tavfiq Fitrat“, „Ikki yuqotish“, „Rizo Tavfiqbek“, „Tagor va tagorshunoslik“, „Ulugʻ hindi“, „Joʻrj Dandon“, „Katta maktab egasi“, „Uvaysiy“, „Ustodning xislatlari“), teatr va musiqa sanʼati („Abo Muslim“, „Iblis“, „Shayx Sanʼon“, „Oydin“, „Malikai Turondot“, „Meyerxold teatri“, „Tursunoy sahnada“, „Ashulaga ishkiboz“, „Qiziqlar“, „Otabola sanʼatkor“, „Bazmcholgʻu toʻdasi“, „Ukraina bandurachilari“), til („Shohnoma“ning turkcha tarjimasi\", „Tilimizning ishlanishi“) va tarjima („Tarjima toʻgʻrisida jindak“, „Soʻz, soʻz, suz“) masalalariga bagʻishlangan maqolalari bilan 20-yillarda adabiy tanqid, sanʼatshunoslik, tilshunoslik va tarjimashunoslik sohalarining paydo boʻlishi va shakllanishiga katta hissa qoʻshdi.\\n\\nTarjima asarlari \\nChoʻlpon adabiy merosining salmoqli qismini tarjima asarlar tashkil etadi. U Moskvada yashagan yillarida moddiy ehtiyoj orqasida koʻpgina oʻtkinchi asarlarni tarjima qilishga majbur boʻldi. Lekin shu bilan birga Choʻlpon Aleksandr Pushkin („Boris Godunov“, „Dubrovskiy“), Nikolay Gogol („Tergovchi“), I.\\xa0S.\\xa0Turgenev („Choʻri qiz“), I.Franko („Million“, „Feruza“), L.Andreyev („Gubernator“, „Osilgan yetti kishining hikoyasi“), A.\\xa0P.\\xa0Chexov („Qochoq“), A.\\xa0M.\\xa0Gorkiy („Ilgaklar“, „Ona“) singari rus va boshqa xalqlar adabiyotining mumtoz asarlarini ham katta mahorat bilan tarjima qilib, zamonaviy milliy tarjima maktabiga asos soldi. Choʻlpon tarjimasidagi William Shekspirning „Hamlet“ tragediyasi oʻzbek tarjima sanʼatining shoh namunasidir.\\n\\nChoʻlpon shoʻro davlatining doimiy tazyiqi va nazorati ostida yashagani sababli uning koʻplab qoʻlyozmalari oʻgʻirlandi. U 1937-yilda „xalq dushmani“ sifatida ayblanib, qamoqqa olinishi arafasida va keyin ham barcha qoʻlyozma asarlari kuydirib tashlandi. Shunga qaramay, Choʻlpondan bizga qadar yetib kelgan 10 jild hajmdagi original va tarjima asarlar oʻzbek xalqining katta madaniy va maʼnaviy boyligidir.\\n\\nXotira \\nOʻzbekiston mustaqil respublika deb eʼlon qilingach, Choʻlponning oʻzbek madaniyatini rivojlantirish va xalq ommasini istiqlol gʻoyalariga sadoqat ruhida tarbiyalash ishiga qoʻshgan hissasi yuksak baholandi. Choʻlponga Alisher Navoiy nomidagi Oʻzbekiston Respublikasi Davlat mukofoti (1991) va „Mustaqillik“ (1999) berildi. 1997-yil Choʻlponning 100 yilligi keng nishonlanib, Andijonda Choʻlpon uy-muzeyi tashkil etildi, Tillar pedagogika instituti va litsey Choʻlpon nomi bilan ataldi. Oʻzbek milliy akademik drama teatrida Choʻlpon xayoti va ijtimoiy faoliyati haqida hikoya qiluvchi „Kunduzsiz kechalar“ (Usmon Azim asari) spektakli sahnalashtirildi. Xotirasini abadiylashtirish uchun ko‘chalar hamda muhim inshootlarga nomi berildi.\\n\\nChoʻlpon dastxati. Goʻzal sanʼatlar. \\nChoʻlponning „Oʻzbek yosh shoirlari“ (1923), „Goʻzal yozgʻichlar“ (1925), „Adabiyot parchalari“ (1926) majmualarida chop etilgan sheʼrlari, oʻz sheʼrlari asosida nashr qilingan „Uygʻonish“ (1922), „Buloqlar“ (1923), „Tong sirlari“ (1926), „Soz“ (1935) kabi toʻplamlari yangi oʻzbek sheʼiyati taraqqiyotida muhim oʻrin tutadi.\\n\\nUning „Kecha va kunduz“ (1936) romani, „Doʻxtur Muhammadyor“ (1914), „Qor qoʻynida lola“, „Novvoy qiz“, „Oydin kechalarda“ hikoyalari yangi davr oʻzbek nasri rivojiga salmoqli hissa boʻlib qoʻshildi.\\n\\nChoʻlponning „Yorqinoy“ (1920), „Xalil farang“ (1921), „Choʻrining isyoni“ (1926), „Yana uylanaman“ (1926), „Mushtumzoʻr“ (1928), „Oʻrtoq Qarshiboev“ (1928), „Hujum“ (1928) kabi dramalari uning dramaturg sifatida ham samarali ijod qilganligini koʻrsatadi.\\n\\nMilliy istiqlol va ozodlik gʻoyalari Choʻlpon ijodining leytmotivini belgilaydi. Choʻlpon Pushkinning „Dubrovskiy“, „Boris Godunov“ asarlarini, Gorkiyning „Ona“ romani va „Egor Bulichev“ peʼsasini, Lohutiyning „Evropa safari“ni, Gotsiyning „Malikai Turandot“, Shekspirning „Hamlet“ dramalarini oʻzbek tiliga tarjima qilish orqali oʻzbek va jahon adabiy aloqalari rivojiga munosib hissa qoʻshdi.\\n\\nChoʻlpon ijodi bilan OʻzMU professorlari O. Sharofiddinov, U. Normatov, N. Karimov, D. Quronov, B. Doʻstqoraevlar ilmiy tadqiqot ishlarini olib bormoqdalar. Choʻlponga Navoiy nomidagi Davlat mukofoti berildi. Uning „Kecha va kunduz“ romani asosida videofilm yaratilgan.\\n\\nTarjima qilingan asarlari \\nChoʻlponning tanlangan asarlari birinchi marotaba rus tilida 2009-yil Moskvadagi Voskresenye nashriyotida chop etildi. Ushbu toʻplam uning „Kecha va kunduz“ romani, „Yorqinoy“ pesasi va 1915-1938-yillarda yaratilgan bir qator sheʼrlarini oʻz ichiga olgan. Tanlangan asarlar Hamid Ismoilov tomonidan tarjima qilingan.\\n\\nShu yilning oʻzida „Kecha va kunduz“ romanining Stéphane A. Dudoignon tomonidan fransuz tiliga tarjimasi Fransiyada Bleu Autour nashriyotida chop etildi.\\n\\n2008-yil Parijda chop etilgan Oʻzbekiston sheʼriyati antologiyasida („Anthologie de la poésie d’Ouzbékistan“) Choʻlponning bir nechta sheʼrlari fransuz kitobxonlariga havola qilingan. Tarjilonlar Hamid Ismoilov va Jean-Pierre Balpe.\\n\\nNashr qilingan asarlari \\n Abdulhamid Choʻlpon. Kecha. T.: Oʻzdavnashr, 1936.\\n Choʻlpon. Yana oldim sozimni. T.: Adabiyot va sanʼat. 1991.\\n Choʻlpon. Adabiyot nadir. T.: Choʻlpon, 1994.\\n Abdulhamid Choʻlpon. Kecha va kunduz. Birinchi kitob: Kecha. T.: Sharq, 1995 (XX asr oʻzbek romani).\\n Abdulhamid Choʻlpon. Goʻzal Turkiston. T.: Maʼnaviyat, 1997.\\n Choʻlpon. Asarlar. Uch jildlik. T.: Xazina, 1997-1998.\\n Abdulxamid Chulpon. I prozvuchit eщe moy saz, per. s uzbekskogo Xamidom Ismaylovim, Moskva: Voskresene, 2009.\\n Tchulpân. Nuit, fransuz tilida, tarjimon va soʻzboshi muallifi Stéphane A. Dudoignon. Saint-Pourçain-sur-Sioule : Bleu autour, 2009; 464 bet (Collection „d’un lieu l’autre“).\\n\\nAdabiyotlar \\n Sharafiddinov O. Choʻlponni anglash. T.: Xazina, 1994.\\n Karimov N. Choʻlpon. T.: Fan, 1991.\\n Choʻlponning badiiy olami (toʻplam). T.: Fan, 1994.\\n Murodov J.Cholpon haqida. T.: Ohangaron Hayoti Gazetasi, 2014\\n\\nManbalar \\n\\nOʻzbekistonlik yozuvchilar\\nJadidlar'}\n"
     ]
    },
    {
     "data": {
      "application/vnd.jupyter.widget-view+json": {
       "model_id": "facfae09cfa349b9908378d691b635f1",
       "version_major": 2,
       "version_minor": 0
      },
      "text/plain": [
       "Map:   0%|          | 0/80 [00:00<?, ? examples/s]"
      ]
     },
     "metadata": {},
     "output_type": "display_data"
    },
    {
     "data": {
      "application/vnd.jupyter.widget-view+json": {
       "model_id": "9ed626b7a3f1442ca5af41d088017419",
       "version_major": 2,
       "version_minor": 0
      },
      "text/plain": [
       "Map:   0%|          | 0/20 [00:00<?, ? examples/s]"
      ]
     },
     "metadata": {},
     "output_type": "display_data"
    }
   ],
   "source": [
    "# Tokenize the dataset\n",
    "def prompt_builder(row):\n",
    "    return {\"prompt\": f'Title: {row[\"title\"]}\\nContent: {row[\"text\"]}'}\n",
    "\n",
    "def tokenize_function(examples):\n",
    "    return tokenizer(examples[\"prompt\"], truncation=True, max_length=300)\n",
    "\n",
    "# Apply the prompt builder function\n",
    "train_dataset = train_dataset.map(prompt_builder)\n",
    "test_dataset = test_dataset.map(prompt_builder)\n",
    "\n",
    "print(\"Train dataset example:\", train_dataset[0])\n",
    "print(\"Test dataset example:\", test_dataset[0])\n",
    "\n",
    "# Apply the tokenization\n",
    "train_dataset = train_dataset.map(tokenize_function, batched=True)\n",
    "test_dataset = test_dataset.map(tokenize_function, batched=True)\n",
    "\n",
    "# Convert datasets to PyTorch tensors\n",
    "train_dataset.set_format(type='torch', columns=['input_ids', 'attention_mask'])\n",
    "test_dataset.set_format(type='torch', columns=['input_ids', 'attention_mask'])\n",
    "\n",
    "# Remove unnecessary columns\n",
    "train_dataset = train_dataset.remove_columns(['id', 'url', 'title', 'text'])\n",
    "test_dataset = test_dataset.remove_columns(['id', 'url', 'title', 'text'])"
   ]
  },
  {
   "cell_type": "markdown",
   "id": "3598afe7",
   "metadata": {},
   "source": [
    "## Turn the model into LoRA model"
   ]
  },
  {
   "cell_type": "code",
   "execution_count": 9,
   "id": "94ea41b5",
   "metadata": {},
   "outputs": [
    {
     "data": {
      "text/plain": [
       "LlamaForCausalLM(\n",
       "  (model): LlamaModel(\n",
       "    (embed_tokens): Embedding(128256, 4096)\n",
       "    (layers): ModuleList(\n",
       "      (0-31): 32 x LlamaDecoderLayer(\n",
       "        (self_attn): LlamaSdpaAttention(\n",
       "          (q_proj): Linear8bitLt(in_features=4096, out_features=4096, bias=False)\n",
       "          (k_proj): Linear8bitLt(in_features=4096, out_features=1024, bias=False)\n",
       "          (v_proj): Linear8bitLt(in_features=4096, out_features=1024, bias=False)\n",
       "          (o_proj): Linear8bitLt(in_features=4096, out_features=4096, bias=False)\n",
       "          (rotary_emb): LlamaRotaryEmbedding()\n",
       "        )\n",
       "        (mlp): LlamaMLP(\n",
       "          (gate_proj): Linear8bitLt(in_features=4096, out_features=14336, bias=False)\n",
       "          (up_proj): Linear8bitLt(in_features=4096, out_features=14336, bias=False)\n",
       "          (down_proj): Linear8bitLt(in_features=14336, out_features=4096, bias=False)\n",
       "          (act_fn): SiLU()\n",
       "        )\n",
       "        (input_layernorm): LlamaRMSNorm((4096,), eps=1e-05)\n",
       "        (post_attention_layernorm): LlamaRMSNorm((4096,), eps=1e-05)\n",
       "      )\n",
       "    )\n",
       "    (norm): LlamaRMSNorm((4096,), eps=1e-05)\n",
       "    (rotary_emb): LlamaRotaryEmbedding()\n",
       "  )\n",
       "  (lm_head): Linear(in_features=4096, out_features=128256, bias=False)\n",
       ")"
      ]
     },
     "execution_count": 9,
     "metadata": {},
     "output_type": "execute_result"
    }
   ],
   "source": [
    "from peft import prepare_model_for_kbit_training\n",
    "\n",
    "peft_model = prepare_model_for_kbit_training(model)\n",
    "\n",
    "peft_model"
   ]
  },
  {
   "cell_type": "code",
   "execution_count": 10,
   "id": "4929021e",
   "metadata": {},
   "outputs": [
    {
     "data": {
      "text/plain": [
       "LoraConfig(peft_type=<PeftType.LORA: 'LORA'>, auto_mapping=None, base_model_name_or_path=None, revision=None, task_type=<TaskType.CAUSAL_LM: 'CAUSAL_LM'>, inference_mode=False, r=32, target_modules=None, lora_alpha=32, lora_dropout=0.1, fan_in_fan_out=False, bias='none', use_rslora=False, modules_to_save=None, init_lora_weights=True, layers_to_transform=None, layers_pattern=None, rank_pattern={}, alpha_pattern={}, megatron_config=None, megatron_core='megatron.core', loftq_config={}, use_dora=False, layer_replication=None, runtime_config=LoraRuntimeConfig(ephemeral_gpu_offload=False))"
      ]
     },
     "execution_count": 10,
     "metadata": {},
     "output_type": "execute_result"
    }
   ],
   "source": [
    "from peft import LoraConfig, TaskType, get_peft_model\n",
    "\n",
    "lora_config = LoraConfig(\n",
    "    r=32, #the rank of the update matrices, expressed in int. Lower rank results in smaller update matrices with fewer trainable parameters\n",
    "    lora_alpha=32, #LoRA scaling factor\n",
    "    lora_dropout=0.1,\n",
    "    task_type=TaskType.CAUSAL_LM,\n",
    "    #target_modules='all-linear' # The modules (for example, attention blocks) to apply the LoRA update matrices.\n",
    ")\n",
    "\n",
    "lora_config"
   ]
  },
  {
   "cell_type": "code",
   "execution_count": 11,
   "id": "df90ea60",
   "metadata": {},
   "outputs": [
    {
     "data": {
      "text/plain": [
       "PeftModelForCausalLM(\n",
       "  (base_model): LoraModel(\n",
       "    (model): LlamaForCausalLM(\n",
       "      (model): LlamaModel(\n",
       "        (embed_tokens): Embedding(128256, 4096)\n",
       "        (layers): ModuleList(\n",
       "          (0-31): 32 x LlamaDecoderLayer(\n",
       "            (self_attn): LlamaSdpaAttention(\n",
       "              (q_proj): lora.Linear8bitLt(\n",
       "                (base_layer): Linear8bitLt(in_features=4096, out_features=4096, bias=False)\n",
       "                (lora_dropout): ModuleDict(\n",
       "                  (default): Dropout(p=0.1, inplace=False)\n",
       "                )\n",
       "                (lora_A): ModuleDict(\n",
       "                  (default): Linear(in_features=4096, out_features=32, bias=False)\n",
       "                )\n",
       "                (lora_B): ModuleDict(\n",
       "                  (default): Linear(in_features=32, out_features=4096, bias=False)\n",
       "                )\n",
       "                (lora_embedding_A): ParameterDict()\n",
       "                (lora_embedding_B): ParameterDict()\n",
       "                (lora_magnitude_vector): ModuleDict()\n",
       "              )\n",
       "              (k_proj): Linear8bitLt(in_features=4096, out_features=1024, bias=False)\n",
       "              (v_proj): lora.Linear8bitLt(\n",
       "                (base_layer): Linear8bitLt(in_features=4096, out_features=1024, bias=False)\n",
       "                (lora_dropout): ModuleDict(\n",
       "                  (default): Dropout(p=0.1, inplace=False)\n",
       "                )\n",
       "                (lora_A): ModuleDict(\n",
       "                  (default): Linear(in_features=4096, out_features=32, bias=False)\n",
       "                )\n",
       "                (lora_B): ModuleDict(\n",
       "                  (default): Linear(in_features=32, out_features=1024, bias=False)\n",
       "                )\n",
       "                (lora_embedding_A): ParameterDict()\n",
       "                (lora_embedding_B): ParameterDict()\n",
       "                (lora_magnitude_vector): ModuleDict()\n",
       "              )\n",
       "              (o_proj): Linear8bitLt(in_features=4096, out_features=4096, bias=False)\n",
       "              (rotary_emb): LlamaRotaryEmbedding()\n",
       "            )\n",
       "            (mlp): LlamaMLP(\n",
       "              (gate_proj): Linear8bitLt(in_features=4096, out_features=14336, bias=False)\n",
       "              (up_proj): Linear8bitLt(in_features=4096, out_features=14336, bias=False)\n",
       "              (down_proj): Linear8bitLt(in_features=14336, out_features=4096, bias=False)\n",
       "              (act_fn): SiLU()\n",
       "            )\n",
       "            (input_layernorm): LlamaRMSNorm((4096,), eps=1e-05)\n",
       "            (post_attention_layernorm): LlamaRMSNorm((4096,), eps=1e-05)\n",
       "          )\n",
       "        )\n",
       "        (norm): LlamaRMSNorm((4096,), eps=1e-05)\n",
       "        (rotary_emb): LlamaRotaryEmbedding()\n",
       "      )\n",
       "      (lm_head): Linear(in_features=4096, out_features=128256, bias=False)\n",
       "    )\n",
       "  )\n",
       ")"
      ]
     },
     "execution_count": 11,
     "metadata": {},
     "output_type": "execute_result"
    }
   ],
   "source": [
    "lora_model = get_peft_model(peft_model, lora_config)\n",
    "lora_model"
   ]
  },
  {
   "cell_type": "code",
   "execution_count": 12,
   "id": "6f66900f",
   "metadata": {},
   "outputs": [
    {
     "name": "stdout",
     "output_type": "stream",
     "text": [
      "trainable params: 13,631,488 || all params: 8,043,892,736 || trainable%: 0.1695\n"
     ]
    }
   ],
   "source": [
    "lora_model.print_trainable_parameters()"
   ]
  },
  {
   "cell_type": "code",
   "execution_count": 13,
   "id": "8a698801",
   "metadata": {},
   "outputs": [
    {
     "name": "stderr",
     "output_type": "stream",
     "text": [
      "/opt/conda/lib/python3.11/site-packages/transformers/training_args.py:1568: FutureWarning: `evaluation_strategy` is deprecated and will be removed in version 4.46 of 🤗 Transformers. Use `eval_strategy` instead\n",
      "  warnings.warn(\n",
      "/tmp/ipykernel_548/2718828685.py:4: FutureWarning: `tokenizer` is deprecated and will be removed in version 5.0.0 for `Trainer.__init__`. Use `processing_class` instead.\n",
      "  trainer = Trainer(\n"
     ]
    }
   ],
   "source": [
    "import numpy as np\n",
    "from transformers import DataCollatorWithPadding,DataCollatorForLanguageModeling, Trainer, TrainingArguments\n",
    "\n",
    "trainer = Trainer(\n",
    "    model=lora_model,\n",
    "    args=TrainingArguments(\n",
    "        output_dir=\"Meta-Llama-3.1-8B-Instruct-finetuned\",\n",
    "        learning_rate=2e-5,\n",
    "        per_device_train_batch_size=1,\n",
    "        per_device_eval_batch_size=1,\n",
    "        evaluation_strategy=\"epoch\",\n",
    "        save_strategy=\"epoch\",\n",
    "        num_train_epochs=1,\n",
    "        weight_decay=0.01,\n",
    "        load_best_model_at_end=True,\n",
    "        logging_steps=1,\n",
    "        report_to=\"none\"\n",
    "    ),\n",
    "    train_dataset=train_dataset,\n",
    "    eval_dataset=test_dataset,\n",
    "    tokenizer=tokenizer,\n",
    "    data_collator=DataCollatorForLanguageModeling(tokenizer=tokenizer, mlm=False)\n",
    ")"
   ]
  },
  {
   "cell_type": "markdown",
   "id": "b2cb4f44",
   "metadata": {},
   "source": [
    "## Let's start the training!"
   ]
  },
  {
   "cell_type": "code",
   "execution_count": 14,
   "id": "cedb131e",
   "metadata": {
    "scrolled": true
   },
   "outputs": [
    {
     "name": "stderr",
     "output_type": "stream",
     "text": [
      "`use_cache=True` is incompatible with gradient checkpointing. Setting `use_cache=False`.\n",
      "/opt/conda/lib/python3.11/site-packages/torch/_dynamo/eval_frame.py:632: UserWarning: torch.utils.checkpoint: the use_reentrant parameter should be passed explicitly. In version 2.5 we will raise an exception if use_reentrant is not passed. use_reentrant=False is recommended, but if you need to preserve the current default behavior, you can pass use_reentrant=True. Refer to docs for more details on the differences between the two variants.\n",
      "  return fn(*args, **kwargs)\n",
      "/opt/conda/lib/python3.11/site-packages/bitsandbytes/autograd/_functions.py:316: UserWarning: MatMul8bitLt: inputs will be cast from torch.float32 to float16 during quantization\n",
      "  warnings.warn(f\"MatMul8bitLt: inputs will be cast from {A.dtype} to float16 during quantization\")\n"
     ]
    },
    {
     "data": {
      "text/html": [
       "\n",
       "    <div>\n",
       "      \n",
       "      <progress value='80' max='80' style='width:300px; height:20px; vertical-align: middle;'></progress>\n",
       "      [80/80 01:39, Epoch 1/1]\n",
       "    </div>\n",
       "    <table border=\"1\" class=\"dataframe\">\n",
       "  <thead>\n",
       " <tr style=\"text-align: left;\">\n",
       "      <th>Epoch</th>\n",
       "      <th>Training Loss</th>\n",
       "      <th>Validation Loss</th>\n",
       "    </tr>\n",
       "  </thead>\n",
       "  <tbody>\n",
       "    <tr>\n",
       "      <td>1</td>\n",
       "      <td>1.586100</td>\n",
       "      <td>1.625495</td>\n",
       "    </tr>\n",
       "  </tbody>\n",
       "</table><p>"
      ],
      "text/plain": [
       "<IPython.core.display.HTML object>"
      ]
     },
     "metadata": {},
     "output_type": "display_data"
    },
    {
     "name": "stderr",
     "output_type": "stream",
     "text": [
      "/opt/conda/lib/python3.11/site-packages/bitsandbytes/autograd/_functions.py:316: UserWarning: MatMul8bitLt: inputs will be cast from torch.float32 to float16 during quantization\n",
      "  warnings.warn(f\"MatMul8bitLt: inputs will be cast from {A.dtype} to float16 during quantization\")\n"
     ]
    },
    {
     "data": {
      "text/plain": [
       "TrainOutput(global_step=80, training_loss=1.755404146015644, metrics={'train_runtime': 101.2973, 'train_samples_per_second': 0.79, 'train_steps_per_second': 0.79, 'total_flos': 1012433735393280.0, 'train_loss': 1.755404146015644, 'epoch': 1.0})"
      ]
     },
     "execution_count": 14,
     "metadata": {},
     "output_type": "execute_result"
    }
   ],
   "source": [
    "trainer.train()"
   ]
  },
  {
   "cell_type": "markdown",
   "id": "82879235",
   "metadata": {},
   "source": [
    "## Generate the first response"
   ]
  },
  {
   "cell_type": "code",
   "execution_count": null,
   "id": "7849b08d",
   "metadata": {},
   "outputs": [
    {
     "name": "stderr",
     "output_type": "stream",
     "text": [
      "The attention mask and the pad token id were not set. As a consequence, you may observe unexpected behavior. Please pass your input's `attention_mask` to obtain reliable results.\n",
      "Setting `pad_token_id` to `eos_token_id`:None for open-end generation.\n",
      "The attention mask is not set and cannot be inferred from input because pad token is same as eos token. As a consequence, you may observe unexpected behavior. Please pass your input's `attention_mask` to obtain reliable results.\n",
      "/opt/conda/lib/python3.11/site-packages/bitsandbytes/autograd/_functions.py:316: UserWarning: MatMul8bitLt: inputs will be cast from torch.float32 to float16 during quantization\n",
      "  warnings.warn(f\"MatMul8bitLt: inputs will be cast from {A.dtype} to float16 during quantization\")\n"
     ]
    }
   ],
   "source": [
    "from peft import PeftModel\n",
    "\n",
    "# Load the fine-tuned model with the adapter attached\n",
    "model_with_adapter = PeftModel.from_pretrained(model, \"Meta-Llama-3.1-8B-Instruct-finetuned/checkpoint-80\").to(\"cuda\")\n",
    "model_with_adapter.eval()\n",
    "inputs = tokenizer(\"Biometriya ma'noni anglatadi\", return_tensors=\"pt\")\n",
    "\n",
    "outputs = model_with_adapter.generate(input_ids=inputs[\"input_ids\"].to(\"cuda\"), max_new_tokens=100)\n",
    "print(tokenizer.batch_decode(outputs, skip_special_tokens=True)[0])"
   ]
  },
  {
   "cell_type": "code",
   "execution_count": null,
   "id": "ab3821ea",
   "metadata": {},
   "outputs": [],
   "source": []
  }
 ],
 "metadata": {
  "kernelspec": {
   "display_name": "Python 3 (ipykernel)",
   "language": "python",
   "name": "python3"
  },
  "language_info": {
   "codemirror_mode": {
    "name": "ipython",
    "version": 3
   },
   "file_extension": ".py",
   "mimetype": "text/x-python",
   "name": "python",
   "nbconvert_exporter": "python",
   "pygments_lexer": "ipython3",
   "version": "3.11.6"
  }
 },
 "nbformat": 4,
 "nbformat_minor": 5
}
